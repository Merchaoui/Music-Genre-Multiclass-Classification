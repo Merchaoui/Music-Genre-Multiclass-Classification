{
 "cells": [
  {
   "cell_type": "markdown",
   "id": "d5dd4668",
   "metadata": {},
   "source": [
    "# Model definitions and testing"
   ]
  },
  {
   "cell_type": "markdown",
   "id": "4a8f73db",
   "metadata": {},
   "source": [
    "# Imports and declarations\n",
    "\n",
    "This section contains all imports and declarations"
   ]
  },
  {
   "cell_type": "code",
   "execution_count": 1,
   "id": "bb069517",
   "metadata": {},
   "outputs": [],
   "source": [
    "# The next packages must be installed to run the solution\n",
    "import Pkg; \n",
    "#Pkg.add(\"Flux\")\n",
    "#Pkg.add(\"RDatasets\")\n",
    "#Pkg.add(\"FeatureSelectors\")\n",
    "#Pkg.add(\"ScikitLearn\")\n",
    "#Pkg.add(\"WeightedPCA\")\n",
    "#Pkg.add(\"BetaML\")\n",
    "# Packages used To store and load models in and from disk\n",
    "#Pkg.add(\"JLD\")\n",
    "#Pkg.add(\"HDF5\")\n",
    "#Pkg.add(\"PyCallJLD\")\n",
    "# Package use to count distribution\n",
    "#Pkg.add(\"DataStructures\")\n",
    "#Pkg.add(\"MLDataPattern\")"
   ]
  },
  {
   "cell_type": "code",
   "execution_count": 2,
   "id": "c20dbb46",
   "metadata": {},
   "outputs": [],
   "source": [
    "# Import libraries\n",
    "using Flux\n",
    "using Flux.Losses\n",
    "using DelimitedFiles\n",
    "using Statistics\n",
    "using Random\n",
    "using ScikitLearn\n",
    "using RDatasets\n",
    "using FeatureSelectors\n",
    "using JLD\n",
    "using PyCallJLD\n",
    "using DataStructures\n",
    "using MLDataPattern"
   ]
  },
  {
   "cell_type": "code",
   "execution_count": 3,
   "id": "4eb0c717",
   "metadata": {},
   "outputs": [
    {
     "name": "stderr",
     "output_type": "stream",
     "text": [
      "┌ Info: Running `conda install -y -c conda-forge 'libstdcxx-ng>=3.4,<11.4'` in root environment\n",
      "└ @ Conda /root/.julia/packages/Conda/x2UxR/src/Conda.jl:127\n"
     ]
    },
    {
     "name": "stdout",
     "output_type": "stream",
     "text": [
      "Collecting package metadata (current_repodata.json): ...working... done\n",
      "Solving environment: ...working... done\n",
      "\n",
      "# All requested packages already installed.\n",
      "\n"
     ]
    },
    {
     "name": "stderr",
     "output_type": "stream",
     "text": [
      "┌ Info: Running `conda install -y -c conda-forge 'libstdcxx-ng>=3.4,<11.4'` in root environment\n",
      "└ @ Conda /root/.julia/packages/Conda/x2UxR/src/Conda.jl:127\n"
     ]
    },
    {
     "name": "stdout",
     "output_type": "stream",
     "text": [
      "Collecting package metadata (current_repodata.json): ...working... done\n",
      "Solving environment: ...working... done\n",
      "\n",
      "# All requested packages already installed.\n",
      "\n"
     ]
    },
    {
     "name": "stderr",
     "output_type": "stream",
     "text": [
      "┌ Info: Running `conda install -y -c conda-forge 'libstdcxx-ng>=3.4,<11.4'` in root environment\n",
      "└ @ Conda /root/.julia/packages/Conda/x2UxR/src/Conda.jl:127\n"
     ]
    },
    {
     "name": "stdout",
     "output_type": "stream",
     "text": [
      "Collecting package metadata (current_repodata.json): ...working... done\n",
      "Solving environment: ...working... done\n",
      "\n",
      "# All requested packages already installed.\n",
      "\n"
     ]
    },
    {
     "name": "stderr",
     "output_type": "stream",
     "text": [
      "┌ Info: Running `conda install -y -c conda-forge 'libstdcxx-ng>=3.4,<11.4'` in root environment\n",
      "└ @ Conda /root/.julia/packages/Conda/x2UxR/src/Conda.jl:127\n"
     ]
    },
    {
     "name": "stdout",
     "output_type": "stream",
     "text": [
      "Collecting package metadata (current_repodata.json): ...working... done\n",
      "Solving environment: ...working... done\n",
      "\n",
      "# All requested packages already installed.\n",
      "\n"
     ]
    },
    {
     "name": "stderr",
     "output_type": "stream",
     "text": [
      "┌ Info: Running `conda install -y -c conda-forge 'libstdcxx-ng>=3.4,<11.4'` in root environment\n",
      "└ @ Conda /root/.julia/packages/Conda/x2UxR/src/Conda.jl:127\n"
     ]
    },
    {
     "name": "stdout",
     "output_type": "stream",
     "text": [
      "Collecting package metadata (current_repodata.json): ...working... done\n",
      "Solving environment: ...working... done\n",
      "\n",
      "# All requested packages already installed.\n",
      "\n"
     ]
    },
    {
     "name": "stderr",
     "output_type": "stream",
     "text": [
      "┌ Info: Running `conda install -y -c conda-forge 'libstdcxx-ng>=3.4,<11.4'` in root environment\n",
      "└ @ Conda /root/.julia/packages/Conda/x2UxR/src/Conda.jl:127\n"
     ]
    },
    {
     "name": "stdout",
     "output_type": "stream",
     "text": [
      "Collecting package metadata (current_repodata.json): ...working... done\n",
      "Solving environment: ...working... done\n",
      "\n",
      "# All requested packages already installed.\n",
      "\n"
     ]
    },
    {
     "name": "stderr",
     "output_type": "stream",
     "text": [
      "┌ Info: Running `conda install -y -c conda-forge 'libstdcxx-ng>=3.4,<11.4'` in root environment\n",
      "└ @ Conda /root/.julia/packages/Conda/x2UxR/src/Conda.jl:127\n"
     ]
    },
    {
     "name": "stdout",
     "output_type": "stream",
     "text": [
      "Collecting package metadata (current_repodata.json): ...working... done\n",
      "Solving environment: ...working... done\n",
      "\n",
      "# All requested packages already installed.\n",
      "\n"
     ]
    },
    {
     "name": "stderr",
     "output_type": "stream",
     "text": [
      "┌ Info: Running `conda install -y -c conda-forge 'libstdcxx-ng>=3.4,<11.4'` in root environment\n",
      "└ @ Conda /root/.julia/packages/Conda/x2UxR/src/Conda.jl:127\n"
     ]
    },
    {
     "name": "stdout",
     "output_type": "stream",
     "text": [
      "Collecting package metadata (current_repodata.json): ...working... done\n",
      "Solving environment: ...working... done\n",
      "\n",
      "# All requested packages already installed.\n",
      "\n"
     ]
    },
    {
     "name": "stderr",
     "output_type": "stream",
     "text": [
      "┌ Info: Running `conda install -y -c conda-forge 'libstdcxx-ng>=3.4,<11.4'` in root environment\n",
      "└ @ Conda /root/.julia/packages/Conda/x2UxR/src/Conda.jl:127\n"
     ]
    },
    {
     "name": "stdout",
     "output_type": "stream",
     "text": [
      "Collecting package metadata (current_repodata.json): ...working... done\n",
      "Solving environment: ...working... done\n",
      "\n",
      "# All requested packages already installed.\n",
      "\n"
     ]
    },
    {
     "name": "stderr",
     "output_type": "stream",
     "text": [
      "┌ Info: Running `conda install -y -c conda-forge 'libstdcxx-ng>=3.4,<11.4'` in root environment\n",
      "└ @ Conda /root/.julia/packages/Conda/x2UxR/src/Conda.jl:127\n"
     ]
    },
    {
     "name": "stdout",
     "output_type": "stream",
     "text": [
      "Collecting package metadata (current_repodata.json): ...working... done\n",
      "Solving environment: ...working... done\n",
      "\n",
      "# All requested packages already installed.\n",
      "\n"
     ]
    },
    {
     "name": "stderr",
     "output_type": "stream",
     "text": [
      "┌ Info: Running `conda install -y -c conda-forge 'libstdcxx-ng>=3.4,<11.4'` in root environment\n",
      "└ @ Conda /root/.julia/packages/Conda/x2UxR/src/Conda.jl:127\n"
     ]
    },
    {
     "name": "stdout",
     "output_type": "stream",
     "text": [
      "Collecting package metadata (current_repodata.json): ...working... done\n",
      "Solving environment: ...working... done\n",
      "\n",
      "# All requested packages already installed.\n",
      "\n"
     ]
    },
    {
     "name": "stderr",
     "output_type": "stream",
     "text": [
      "┌ Info: Running `conda install -y -c conda-forge 'libstdcxx-ng>=3.4,<11.4'` in root environment\n",
      "└ @ Conda /root/.julia/packages/Conda/x2UxR/src/Conda.jl:127\n"
     ]
    },
    {
     "name": "stdout",
     "output_type": "stream",
     "text": [
      "Collecting package metadata (current_repodata.json): ...working... done\n",
      "Solving environment: ...working... done\n",
      "\n",
      "# All requested packages already installed.\n",
      "\n"
     ]
    },
    {
     "name": "stderr",
     "output_type": "stream",
     "text": [
      "┌ Info: Running `conda install -y -c conda-forge 'libstdcxx-ng>=3.4,<11.4'` in root environment\n",
      "└ @ Conda /root/.julia/packages/Conda/x2UxR/src/Conda.jl:127\n"
     ]
    },
    {
     "name": "stdout",
     "output_type": "stream",
     "text": [
      "Collecting package metadata (current_repodata.json): ...working... done\n",
      "Solving environment: ...working... done\n",
      "\n",
      "# All requested packages already installed.\n",
      "\n"
     ]
    },
    {
     "name": "stderr",
     "output_type": "stream",
     "text": [
      "┌ Info: Running `conda install -y -c conda-forge 'libstdcxx-ng>=3.4,<11.4'` in root environment\n",
      "└ @ Conda /root/.julia/packages/Conda/x2UxR/src/Conda.jl:127\n"
     ]
    },
    {
     "name": "stdout",
     "output_type": "stream",
     "text": [
      "Collecting package metadata (current_repodata.json): ...working... done\n",
      "Solving environment: ...working... done\n",
      "\n",
      "# All requested packages already installed.\n",
      "\n"
     ]
    },
    {
     "name": "stderr",
     "output_type": "stream",
     "text": [
      "┌ Info: Running `conda install -y -c conda-forge 'libstdcxx-ng>=3.4,<11.4'` in root environment\n",
      "└ @ Conda /root/.julia/packages/Conda/x2UxR/src/Conda.jl:127\n"
     ]
    },
    {
     "name": "stdout",
     "output_type": "stream",
     "text": [
      "Collecting package metadata (current_repodata.json): ...working... done\n",
      "Solving environment: ...working... done\n",
      "\n",
      "# All requested packages already installed.\n",
      "\n"
     ]
    },
    {
     "name": "stderr",
     "output_type": "stream",
     "text": [
      "┌ Info: Running `conda install -y -c conda-forge 'libstdcxx-ng>=3.4,<11.4'` in root environment\n",
      "└ @ Conda /root/.julia/packages/Conda/x2UxR/src/Conda.jl:127\n"
     ]
    },
    {
     "name": "stdout",
     "output_type": "stream",
     "text": [
      "Collecting package metadata (current_repodata.json): ...working... done\n",
      "Solving environment: ...working... done\n",
      "\n",
      "# All requested packages already installed.\n",
      "\n"
     ]
    },
    {
     "data": {
      "text/plain": [
       "PyObject <class 'sklearn.decomposition._pca.PCA'>"
      ]
     },
     "execution_count": 3,
     "metadata": {},
     "output_type": "execute_result"
    }
   ],
   "source": [
    "# Import ScikitLearn models\n",
    "# Basic models\n",
    "@sk_import svm:SVC\n",
    "@sk_import tree:DecisionTreeClassifier\n",
    "@sk_import neighbors:KNeighborsClassifier\n",
    "@sk_import neural_network:MLPClassifier\n",
    "@sk_import naive_bayes:GaussianNB \n",
    "@sk_import linear_model:LogisticRegression\n",
    "@sk_import neighbors:NearestCentroid\n",
    "@sk_import neighbors:RadiusNeighborsClassifier\n",
    "@sk_import linear_model:RidgeClassifier\n",
    "\n",
    "# Ensemble models\n",
    "@sk_import ensemble:VotingClassifier\n",
    "@sk_import ensemble:StackingClassifier\n",
    "@sk_import ensemble:BaggingClassifier\n",
    "@sk_import ensemble: RandomForestClassifier\n",
    "@sk_import ensemble: AdaBoostClassifier\n",
    "@sk_import ensemble: GradientBoostingClassifier\n",
    "\n",
    "@sk_import decomposition:PCA"
   ]
  },
  {
   "cell_type": "code",
   "execution_count": 4,
   "id": "0f5166c4",
   "metadata": {},
   "outputs": [
    {
     "data": {
      "text/plain": [
       "loadModel (generic function with 1 method)"
      ]
     },
     "execution_count": 4,
     "metadata": {},
     "output_type": "execute_result"
    }
   ],
   "source": [
    "# Legacy code done in previous practices\n",
    "include(\"utils/practices_code.jl\")\n",
    "# Class that handle the model processing\n",
    "include(\"utils/model_handler.jl\")"
   ]
  },
  {
   "cell_type": "code",
   "execution_count": 5,
   "id": "2d6167a8",
   "metadata": {},
   "outputs": [
    {
     "data": {
      "text/plain": [
       "TaskLocalRNG()"
      ]
     },
     "execution_count": 5,
     "metadata": {},
     "output_type": "execute_result"
    }
   ],
   "source": [
    "# Constants\n",
    "# Execute model test set\n",
    "RUN_ANN_TEST = false\n",
    "RUN_SVM_TEST = true\n",
    "RUN_DT_TEST = true\n",
    "RUN_KNN_TEST = true\n",
    "RUN_MLP_TEST = true\n",
    "RUN_GB_TEST = true\n",
    "RUN_LR_TEST = true\n",
    "RUN_NC_TEST = true\n",
    "RUN_RN_TEST = true\n",
    "RUN_RR_TEST = true\n",
    "RUN_MV_TEST = true\n",
    "RUN_WM_TEST = true\n",
    "RUN_ST_TEST = true\n",
    "RUN_BG_TEST = true\n",
    "RUN_BA_TEST = true\n",
    "RUN_GR_TEST = true\n",
    "RUN_RF_TEST = true\n",
    "# Path of the models\n",
    "ANN_FILE_PATH = \"dataset/models/ann.jld\"\n",
    "SVM_FILE_PATH = \"dataset/models/svm.jld\"\n",
    "DT_FILE_PATH = \"dataset/models/dt.jld\"\n",
    "KNN_FILE_PATH = \"dataset/models/knn.jld\"\n",
    "MLP_FILE_PATH = \"dataset/models/mlp.jld\"\n",
    "GB_FILE_PATH = \"dataset/models/gb.jld\"\n",
    "LR_FILE_PATH = \"dataset/models/lr.jld\"\n",
    "NC_FILE_PATH = \"dataset/models/nc.jld\"\n",
    "RN_FILE_PATH = \"dataset/models/rn.jld\"\n",
    "RR_FILE_PATH = \"dataset/models/rr.jld\"\n",
    "MV_FILE_PATH = \"dataset/models/mv.jld\"\n",
    "WM_FILE_PATH = \"dataset/models/wm.jld\"\n",
    "ST_FILE_PATH = \"dataset/models/st.jld\"\n",
    "BG_FILE_PATH = \"dataset/models/bg.jld\"\n",
    "BA_FILE_PATH = \"dataset/models/ba.jld\"\n",
    "GR_FILE_PATH = \"dataset/models/gr.jld\"\n",
    "RF_FILE_PATH = \"dataset/models/rf.jld\"\n",
    "# Reload the best models from disk\n",
    "RELOAD_MODELS = true\n",
    "# Default transfer function for the ANN\n",
    "ANN_DEFAULT_TRANSFER_FUNCTION=sigmoid\n",
    "# Overwrite model in file\n",
    "UPDATE_FILE = true\n",
    "# Possible datasets to test\n",
    "ORIGINAL_DATASET = \"dataset/music_genre.csv\"\n",
    "CLEAN_DATASET = \"dataset/clean_music_genre.csv\"\n",
    "NUMERIC_CLEAN_DATASET = \"dataset/numeric_clean_music_genre.csv\"\n",
    "KBEST_DATASET = \"dataset/kbest_df.csv\"\n",
    "# Which type of output to test\n",
    "REGULAR_OUTPUT=true\n",
    "ONE_HOT_ENCODING_OUTPUT=false\n",
    "# Normalize values with min and max\n",
    "NORMALIZE_MIN_MAX=true\n",
    "# Use different types of samples\n",
    "USE_OVER_SAMPLE=false\n",
    "USE_UNDER_SAMPLE=false\n",
    "USE_PCA=false\n",
    "PCA_CONFIG=0.95\n",
    "# Configuration to split the data for testing\n",
    "HOLD_OUT=0.3\n",
    "# Number of folds to use in crossvalidation\n",
    "NUM_FOLDS=20\n",
    "\n",
    "# Seed to make the experiment repeteables\n",
    "Random.seed!(2)"
   ]
  },
  {
   "cell_type": "markdown",
   "id": "418bdbe7",
   "metadata": {},
   "source": [
    "# Data preprocessing\n",
    "\n",
    "This section contains the preprocessing of the data"
   ]
  },
  {
   "cell_type": "code",
   "execution_count": 6,
   "id": "44543d00",
   "metadata": {},
   "outputs": [
    {
     "name": "stdout",
     "output_type": "stream",
     "text": [
      "Dataset original size: (17924, 13)\n",
      "Sample of original dataset: Any[52.2, 0.854, 0.564, 12.18585911937475, 0.0171, 0.899, 134.071, 234.596, 1, 0, 0.03404, 0.00965882, 5]\n",
      "17924\n",
      "13\n",
      "Inputs size: (17923, 12)\n",
      "Sample of inputs: Any[52.2, 0.854, 0.564, 12.18585911937475, 0.0171, 0.899, 134.071, 234.596, 1, 0, 0.03404, 0.00965882]\n",
      "Outputs size: (17923,)\n",
      "Unique Outputs: [\"5\", \"10\", \"6\", \"2\", \"Other\", \"8\", \"9\", \"1\"]\n"
     ]
    }
   ],
   "source": [
    "# Load the dataset from disk (already pre processed)\n",
    "dataset = readdlm(KBEST_DATASET,',');\n",
    "\n",
    "# Show information of the dataset\n",
    "println(\"Dataset original size: \", size(dataset))\n",
    "println(\"Sample of original dataset: \", dataset[2,:])\n",
    "println(size(dataset,1))\n",
    "println(size(dataset,2))\n",
    "\n",
    "# Separate the features and the output of the dataset. Remove header.\n",
    "train_x = dataset[2:size(dataset,1),1:size(dataset,2)-1]\n",
    "train_y = dataset[2:size(dataset,1),size(dataset,2)]\n",
    "\n",
    "# Convert to regular values the output classes\n",
    "if REGULAR_OUTPUT\n",
    "    train_y = string.(train_y)\n",
    "end\n",
    "\n",
    "# Convert to one hot encoding the output classes\n",
    "if ONE_HOT_ENCODING_OUTPUT\n",
    "    train_y = oneHotEncoding(train_y)\n",
    "end\n",
    "\n",
    "\n",
    "# Show information of the transformed dataset\n",
    "println(\"Inputs size: \", size(train_x))\n",
    "println(\"Sample of inputs: \", train_x[1,:])\n",
    "println(\"Outputs size: \", size(train_y))\n",
    "println(\"Unique Outputs: \", unique(train_y))"
   ]
  },
  {
   "cell_type": "code",
   "execution_count": 7,
   "id": "6bf4bcf1",
   "metadata": {},
   "outputs": [
    {
     "name": "stdout",
     "output_type": "stream",
     "text": [
      "Size original input data: (17923, 12)\n",
      "Size original output data: (17923,)\n",
      "Size train input data: (12546, 12)\n",
      "Size train output data: (12546,)\n",
      "Size test input data: (5377, 12)\n",
      "Size test output data: (5377,)\n",
      "Sample original input data: Any[52.2, 0.854, 0.564, 12.18585911937475, 0.0171, 0.899, 134.071, 234.596, 1, 0, 0.03404, 0.00965882]\n",
      "Sample train input data: [0.425531914893617, 0.40587665482725216, 0.8199963459258223, 0.7153069110103181, 0.07931726907630522, 0.6350440642820114, 0.4095655012603085, 0.12278214427098692, 0.0, 0.0, 0.056723716381418085, 4.943685786840785e-5]\n",
      "Sample test input data: [0.29896907216494845, 0.8254553339115351, 0.5820763888192906, 0.7788889689146599, 0.13353413654618473, 0.8923060992026509, 0.344533493335619, 0.10596919580502202, 0.0, 0.0, 0.1945945945945946, 0.000486846672985156]\n"
     ]
    }
   ],
   "source": [
    "# Using Hold Out function to split dataset into train and test\n",
    "indexs = holdOut(size(train_x,1),HOLD_OUT)\n",
    "\n",
    "train_input = train_x[indexs[1],:]\n",
    "train_output = vec(train_y[indexs[1],:])\n",
    "\n",
    "test_input = train_x[indexs[2],:]\n",
    "test_output = vec(train_y[indexs[2],:])\n",
    "\n",
    "#normalization after splitting, so test data cannot affect the train data and the first touch between them should be in predictions.\n",
    "if NORMALIZE_MIN_MAX\n",
    "    train_input = normalizeMinMax!(train_input)\n",
    "    test_input = normalizeMinMax!(test_input)\n",
    "end\n",
    "\n",
    "# Show information about the splitted data\n",
    "println(\"Size original input data: \", size(train_x))\n",
    "println(\"Size original output data: \", size(train_y))\n",
    "\n",
    "println(\"Size train input data: \", size(train_input))\n",
    "println(\"Size train output data: \", size(train_output))\n",
    "\n",
    "println(\"Size test input data: \", size(test_input))\n",
    "println(\"Size test output data: \", size(test_output))\n",
    "\n",
    "println(\"Sample original input data: \", train_x[1,:])\n",
    "println(\"Sample train input data: \", train_input[1,:])\n",
    "println(\"Sample test input data: \", test_input[1,:])"
   ]
  },
  {
   "cell_type": "code",
   "execution_count": 8,
   "id": "6c3feb7e",
   "metadata": {},
   "outputs": [],
   "source": [
    "# If the over sample option is active\n",
    "if USE_OVER_SAMPLE\n",
    "    # Show inputs before aplying over sample\n",
    "    println(\"Inputs size: \", size(train_input))\n",
    "    println(\"Outputs size: \", size(train_output))\n",
    "\n",
    "    # Balance the dataset\n",
    "    balanced_x, balanced_y = oversample((train_input', train_output))\n",
    "\n",
    "    # Show previous values\n",
    "    println(\"Outputs Values: \", unique(train_output))\n",
    "    println(\"Before balance:\", counter(train_output))\n",
    "\n",
    "    # Get and show over sampled dataset\n",
    "    train_input = getobs(balanced_x')\n",
    "    train_output = getobs(balanced_y)\n",
    "\n",
    "    println(\"After balance:\", counter(train_output))\n",
    "end"
   ]
  },
  {
   "cell_type": "code",
   "execution_count": 9,
   "id": "4335aea8",
   "metadata": {},
   "outputs": [],
   "source": [
    "# If the under sample option is active\n",
    "if USE_UNDER_SAMPLE\n",
    "    # Show inputs before aplying under sample\n",
    "    println(\"Inputs size: \", size(train_input))\n",
    "    println(\"Outputs size: \", size(train_output))\n",
    "\n",
    "    # Balance the dataset\n",
    "    balanced_x, balanced_y = undersample((train_input', train_output))\n",
    "\n",
    "    # Show previous values\n",
    "    println(\"Outputs Values: \", unique(train_output))\n",
    "    println(\"Before balance:\", counter(train_output))\n",
    "\n",
    "    # Get and show under sampled dataset\n",
    "    train_input = getobs(balanced_x')\n",
    "    train_output = getobs(balanced_y)\n",
    "\n",
    "    println(\"After balance:\", counter(train_output))\n",
    "end"
   ]
  },
  {
   "cell_type": "code",
   "execution_count": 10,
   "id": "7dd11ef1",
   "metadata": {},
   "outputs": [],
   "source": [
    "# Apply Principal Component Analysis\n",
    "if USE_PCA\n",
    "    # PCA based on 95% variance, suggests that there are 5 features have noise and should be eliminated\n",
    "    # Load the PCA configuration\n",
    "    pca = PCA(PCA_CONFIG)\n",
    "\n",
    "    # Fit the input dataset with the configuration\n",
    "    fit!(pca, train_input)\n",
    "\n",
    "    # Transform the dataset with the new features\n",
    "    pca_train = pca.transform(train_input)\n",
    "    pca_test = pca.transform(test_input)\n",
    "\n",
    "    # Show the difference after applying PCA\n",
    "    println(\"Train Patterns \", size(train_input), \" -> \", size(pca_train))\n",
    "    println(\"Test Patterns \", size(test_input), \" -> \", size(pca_test))\n",
    "\n",
    "    # Assing the PCA dataset to the testing\n",
    "    train_input = pca_train\n",
    "    test_input = pca_test\n",
    "end"
   ]
  },
  {
   "cell_type": "code",
   "execution_count": 11,
   "id": "66278936",
   "metadata": {},
   "outputs": [
    {
     "name": "stdout",
     "output_type": "stream",
     "text": [
      "(12546,)\n"
     ]
    }
   ],
   "source": [
    "# Get the crossvalidation indexs for testing\n",
    "indexs = crossvalidation(train_output, NUM_FOLDS)\n",
    "kFoldIndices = convert(Vector{Int64}, indexs)\n",
    "\n",
    "# Show the crossvalidation size\n",
    "println(size(kFoldIndices))"
   ]
  },
  {
   "cell_type": "markdown",
   "id": "221f9e00",
   "metadata": {},
   "source": [
    "# Model experimentation\n",
    "\n",
    "This section contains all experimentation of the models"
   ]
  },
  {
   "cell_type": "code",
   "execution_count": 12,
   "id": "23a05b0a",
   "metadata": {},
   "outputs": [],
   "source": [
    "# Run the test case for Artificial Neural Network model\n",
    "if RUN_ANN_TEST\n",
    "    test_ANN_Model(train_input, train_output, test_input, test_output, kFoldIndices, ANN_DEFAULT_TRANSFER_FUNCTION, UPDATE_FILE, ANN_FILE_PATH)\n",
    "end"
   ]
  },
  {
   "cell_type": "code",
   "execution_count": 13,
   "id": "acb61da5",
   "metadata": {},
   "outputs": [
    {
     "name": "stdout",
     "output_type": "stream",
     "text": [
      "Test results for SVM model: \n",
      "Parameters: Dict{Any, Any}(\"tol\" => 0.001, \"kernelGamma\" => 2, \"C\" => 1, \"kernel\" => \"rbf\", \"shrinking\" => true, \"probability\" => true, \"coef0\" => 0.0, \"kernelDegree\" => 3) Accuracy: 0.4229176534236273 Fscore: 0.3407648984437798\n",
      "Parameters: Dict{Any, Any}(\"tol\" => 0.001, \"kernelGamma\" => 2, \"C\" => 2, \"kernel\" => \"rbf\", \"shrinking\" => true, \"probability\" => true, \"coef0\" => 0.0, \"kernelDegree\" => 3) Accuracy: 0.42618836098532886 Fscore: 0.34846228068931423\n",
      "Parameters: Dict{Any, Any}(\"tol\" => 0.001, \"kernelGamma\" => 2, \"C\" => 3, \"kernel\" => \"rbf\", \"shrinking\" => true, \"probability\" => true, \"coef0\" => 0.0, \"kernelDegree\" => 3) Accuracy: 0.4273044114639554 Fscore: 0.3513293481100276\n",
      "Parameters: Dict{Any, Any}(\"tol\" => 0.001, \"kernelGamma\" => 2, \"C\" => 4, \"kernel\" => \"rbf\", \"shrinking\" => true, \"probability\" => true, \"coef0\" => 0.0, \"kernelDegree\" => 3) Accuracy: 0.42866403626138216 Fscore: 0.3555102890031802\n",
      "Parameters: Dict{Any, Any}(\"tol\" => 0.001, \"kernelGamma\" => 2, \"C\" => 10, \"kernel\" => \"rbf\", \"shrinking\" => true, \"probability\" => true, \"coef0\" => 0.0, \"kernelDegree\" => 3) Accuracy: 0.42362989490616565 Fscore: 0.3571448061562755\n",
      "Parameters: Dict{Any, Any}(\"tol\" => 0.001, \"kernelGamma\" => 2, \"C\" => 1, \"kernel\" => \"linear\", \"shrinking\" => true, \"probability\" => true, \"coef0\" => 0.0, \"kernelDegree\" => 3) Accuracy: 0.40450913876177486 Fscore: 0.30329593681301237\n",
      "Parameters: Dict{Any, Any}(\"tol\" => 0.001, \"kernelGamma\" => 2, \"C\" => 2, \"kernel\" => \"linear\", \"shrinking\" => true, \"probability\" => true, \"coef0\" => 0.0, \"kernelDegree\" => 3) Accuracy: 0.4064207469195253 Fscore: 0.30888143299035364\n",
      "Parameters: Dict{Any, Any}(\"tol\" => 0.001, \"kernelGamma\" => 2, \"C\" => 10, \"kernel\" => \"linear\", \"shrinking\" => true, \"probability\" => true, \"coef0\" => 0.0, \"kernelDegree\" => 3) Accuracy: 0.4082504352886721 Fscore: 0.31235766277250143\n",
      "Parameters: Dict{Any, Any}(\"tol\" => 0.001, \"kernelGamma\" => 2, \"C\" => 1, \"kernel\" => \"poly\", \"shrinking\" => true, \"probability\" => true, \"coef0\" => 0.0, \"kernelDegree\" => 3) Accuracy: 0.42722200771621094 Fscore: 0.3502837101423238\n",
      "Parameters: Dict{Any, Any}(\"tol\" => 0.001, \"kernelGamma\" => 2, \"C\" => 2, \"kernel\" => \"poly\", \"shrinking\" => true, \"probability\" => true, \"coef0\" => 0.0, \"kernelDegree\" => 3) Accuracy: 0.4265807471827305 Fscore: 0.3517549199729603\n",
      "Parameters: Dict{Any, Any}(\"tol\" => 0.001, \"kernelGamma\" => 2, \"C\" => 10, \"kernel\" => \"poly\", \"shrinking\" => true, \"probability\" => true, \"coef0\" => 0.0, \"kernelDegree\" => 3) Accuracy: 0.4208437562982872 Fscore: 0.34760507341495195\n",
      "Parameters: Dict{Any, Any}(\"tol\" => 0.001, \"kernelGamma\" => 2, \"C\" => 1, \"kernel\" => \"sigmoid\", \"shrinking\" => true, \"probability\" => true, \"coef0\" => 0.0, \"kernelDegree\" => 3) Accuracy: 0.24853062171565563 Fscore: 0.15164454926968876\n",
      "Parameters: Dict{Any, Any}(\"tol\" => 0.001, \"kernelGamma\" => 2, \"C\" => 2, \"kernel\" => \"sigmoid\", \"shrinking\" => true, \"probability\" => true, \"coef0\" => 0.0, \"kernelDegree\" => 3) Accuracy: 0.23251545733787182 Fscore: 0.1464105997032253\n",
      "Parameters: Dict{Any, Any}(\"tol\" => 0.001, \"kernelGamma\" => 2, \"C\" => 10, \"kernel\" => \"sigmoid\", \"shrinking\" => true, \"probability\" => true, \"coef0\" => 0.0, \"kernelDegree\" => 3) Accuracy: 0.22232264231425164 Fscore: 0.13619587526487303\n",
      "Parameters: Dict{Any, Any}(\"tol\" => 0.001, \"kernelGamma\" => 2, \"C\" => 4, \"kernel\" => \"rbf\", \"shrinking\" => true, \"probability\" => true, \"coef0\" => 0.0, \"kernelDegree\" => 5) Accuracy: 0.42866403626138216 Fscore: 0.3555102890031802\n",
      "Parameters: Dict{Any, Any}(\"tol\" => 0.001, \"kernelGamma\" => 2, \"C\" => 4, \"kernel\" => \"rbf\", \"shrinking\" => true, \"probability\" => true, \"coef0\" => 0.0, \"kernelDegree\" => 1) Accuracy: 0.42866403626138216 Fscore: 0.3555102890031802\n",
      "Parameters: Dict{Any, Any}(\"tol\" => 0.001, \"kernelGamma\" => 3, \"C\" => 4, \"kernel\" => \"rbf\", \"shrinking\" => true, \"probability\" => true, \"coef0\" => 0.0, \"kernelDegree\" => 3) Accuracy: 0.4236334638635859 Fscore: 0.3553975017402936\n",
      "Parameters: Dict{Any, Any}(\"tol\" => 0.01, \"kernelGamma\" => 2, \"C\" => 4, \"kernel\" => \"rbf\", \"shrinking\" => true, \"probability\" => true, \"coef0\" => 0.0, \"kernelDegree\" => 3) Accuracy: 0.4284254359150636 Fscore: 0.35539283009887207\n",
      "//////////////////////////////////////////\n",
      "Best parameters: Dict{Any, Any}(\"tol\" => 0.001, \"kernelGamma\" => 2, \"C\" => 4, \"kernel\" => \"rbf\", \"shrinking\" => true, \"probability\" => true, \"coef0\" => 0.0, \"kernelDegree\" => 3) Best accuracy: 0.42866403626138216\n",
      "Test: Accuracy: 0.41807699460665804 Error rate: 0.581923005393342 Sensitivity: 0.35212615873111347 Specificity rate: 0.9089238852688694 FScore: 0.34173152091386894\n",
      "Tot: 5377 Ok: 2248 Acc: 0.418076994606658\n"
     ]
    }
   ],
   "source": [
    "# Run the test case for Support Vector Machine model\n",
    "if RUN_SVM_TEST\n",
    "    test_SVM_Model(train_input, train_output, test_input, test_output, kFoldIndices, UPDATE_FILE, SVM_FILE_PATH)\n",
    "end"
   ]
  },
  {
   "cell_type": "code",
   "execution_count": 14,
   "id": "4be19d34",
   "metadata": {},
   "outputs": [
    {
     "name": "stdout",
     "output_type": "stream",
     "text": [
      "Test results for Decision tree model: \n",
      "Parameters: Dict{Any, Any}(\"max_depth\" => 4, \"random_state\" => 1, \"splitter\" => \"best\", \"criterion\" => \"gini\", \"min_samples_split\" => 2) Accuracy: 0.3742877591704647 Fscore: 0.26968481003234757\n",
      "Parameters: Dict{Any, Any}(\"max_depth\" => 3, \"random_state\" => 1, \"splitter\" => \"best\", \"criterion\" => \"gini\", \"min_samples_split\" => 2) Accuracy: 0.36473533120032464 Fscore: 0.22300396003521353\n",
      "Parameters: Dict{Any, Any}(\"max_depth\" => 2, \"random_state\" => 1, \"splitter\" => \"best\", \"criterion\" => \"gini\", \"min_samples_split\" => 2) Accuracy: 0.32774655694918753 Fscore: 0.1713062660022087\n",
      "Parameters: Dict{Any, Any}(\"max_depth\" => 1, \"random_state\" => 1, \"splitter\" => \"best\", \"criterion\" => \"gini\", \"min_samples_split\" => 2) Accuracy: 0.27506838938921974 Fscore: 0.053932067243248574\n",
      "Parameters: Dict{Any, Any}(\"max_depth\" => 5, \"random_state\" => 1, \"splitter\" => \"best\", \"criterion\" => \"gini\", \"min_samples_split\" => 2) Accuracy: 0.3809828701438388 Fscore: 0.29393172492269126\n",
      "Parameters: Dict{Any, Any}(\"max_depth\" => 6, \"random_state\" => 1, \"splitter\" => \"best\", \"criterion\" => \"gini\", \"min_samples_split\" => 2) Accuracy: 0.3951719905618575 Fscore: 0.3000097701633223\n",
      "Parameters: Dict{Any, Any}(\"max_depth\" => 7, \"random_state\" => 1, \"splitter\" => \"best\", \"criterion\" => \"gini\", \"min_samples_split\" => 2) Accuracy: 0.3927868609766752 Fscore: 0.3194640953156628\n",
      "Parameters: Dict{Any, Any}(\"max_depth\" => 8, \"random_state\" => 1, \"splitter\" => \"best\", \"criterion\" => \"gini\", \"min_samples_split\" => 2) Accuracy: 0.3901532384191456 Fscore: 0.31788857748332566\n",
      "Parameters: Dict{Any, Any}(\"max_depth\" => 9, \"random_state\" => 1, \"splitter\" => \"best\", \"criterion\" => \"gini\", \"min_samples_split\" => 2) Accuracy: 0.3863226412154027 Fscore: 0.32194967482682046\n",
      "Parameters: Dict{Any, Any}(\"max_depth\" => 6, \"random_state\" => 1, \"splitter\" => \"random\", \"criterion\" => \"gini\", \"min_samples_split\" => 2) Accuracy: 0.38020878528552937 Fscore: 0.2792800809033206\n",
      "Parameters: Dict{Any, Any}(\"max_depth\" => 6, \"random_state\" => 1, \"splitter\" => \"best\", \"criterion\" => \"gini\", \"min_samples_split\" => 4) Accuracy: 0.3951719905618575 Fscore: 0.3000097701633223\n",
      "Parameters: Dict{Any, Any}(\"max_depth\" => 6, \"random_state\" => 1, \"splitter\" => \"best\", \"criterion\" => \"gini\", \"min_samples_split\" => 3) Accuracy: 0.3951719905618575 Fscore: 0.3000097701633223\n",
      "Parameters: Dict{Any, Any}(\"max_depth\" => 6, \"random_state\" => 1, \"splitter\" => \"best\", \"criterion\" => \"gini\", \"min_samples_split\" => 5) Accuracy: 0.3951719905618575 Fscore: 0.3000097701633223\n",
      "//////////////////////////////////////////\n",
      "Best parameters: Dict{Any, Any}(\"max_depth\" => 6, \"random_state\" => 1, \"splitter\" => \"best\", \"criterion\" => \"gini\", \"min_samples_split\" => 2) Best accuracy: 0.3951719905618575\n",
      "Test: Accuracy: 0.39464385344987907 Error rate: 0.6053561465501209 Sensitivity: 0.3156085911523712 Specificity rate: 0.9047001794698204 FScore: 0.30040608471430913\n",
      "Tot: 5377 Ok: 2122 Acc: 0.3946438534498791\n"
     ]
    }
   ],
   "source": [
    "# Run the test case for Decision Tree model\n",
    "if RUN_DT_TEST\n",
    "    test_DT_Model(train_input, train_output, test_input, test_output, kFoldIndices, UPDATE_FILE, DT_FILE_PATH)\n",
    "end"
   ]
  },
  {
   "cell_type": "code",
   "execution_count": 15,
   "id": "77a9c09f",
   "metadata": {},
   "outputs": [
    {
     "name": "stdout",
     "output_type": "stream",
     "text": [
      "Test results for KNN model: \n",
      "Parameters: Dict{Any, Any}(\"n_neighbors\" => 3, \"metric\" => \"nan_euclidean\", \"weights\" => \"uniform\") Accuracy: 0.3109185508144868 Fscore: 0.29249636917829636\n",
      "Parameters: Dict{Any, Any}(\"n_neighbors\" => 2, \"metric\" => \"nan_euclidean\", \"weights\" => \"uniform\") Accuracy: 0.28780936566523896 Fscore: 0.2625364079246324\n",
      "Parameters: Dict{Any, Any}(\"n_neighbors\" => 1, \"metric\" => \"nan_euclidean\", \"weights\" => \"uniform\") Accuracy: 0.28503276145974055 Fscore: 0.2741920229935021\n",
      "Parameters: Dict{Any, Any}(\"n_neighbors\" => 5, \"metric\" => \"nan_euclidean\", \"weights\" => \"uniform\") Accuracy: 0.34734598479564216 Fscore: 0.3150625765818593\n",
      "Parameters: Dict{Any, Any}(\"n_neighbors\" => 7, \"metric\" => \"nan_euclidean\", \"weights\" => \"uniform\") Accuracy: 0.3617033874435635 Fscore: 0.3203798143749458\n",
      "Parameters: Dict{Any, Any}(\"n_neighbors\" => 10, \"metric\" => \"nan_euclidean\", \"weights\" => \"uniform\") Accuracy: 0.3781196540675367 Fscore: 0.32801742145043744\n",
      "Parameters: Dict{Any, Any}(\"n_neighbors\" => 20, \"metric\" => \"nan_euclidean\", \"weights\" => \"uniform\") Accuracy: 0.3998901028691872 Fscore: 0.33474504492490237\n",
      "Parameters: Dict{Any, Any}(\"n_neighbors\" => 50, \"metric\" => \"nan_euclidean\", \"weights\" => \"uniform\") Accuracy: 0.4069766702272809 Fscore: 0.32876108832921364\n",
      "Parameters: Dict{Any, Any}(\"n_neighbors\" => 60, \"metric\" => \"nan_euclidean\", \"weights\" => \"uniform\") Accuracy: 0.40665578335327945 Fscore: 0.3257455747322731\n",
      "Parameters: Dict{Any, Any}(\"n_neighbors\" => 70, \"metric\" => \"nan_euclidean\", \"weights\" => \"uniform\") Accuracy: 0.40753029749399783 Fscore: 0.3242203421526516\n",
      "Parameters: Dict{Any, Any}(\"n_neighbors\" => 80, \"metric\" => \"nan_euclidean\", \"weights\" => \"uniform\") Accuracy: 0.40633490335299055 Fscore: 0.32114078962582204\n",
      "Parameters: Dict{Any, Any}(\"n_neighbors\" => 100, \"metric\" => \"nan_euclidean\", \"weights\" => \"uniform\") Accuracy: 0.40705426077448104 Fscore: 0.32010833189443827\n",
      "Parameters: Dict{Any, Any}(\"n_neighbors\" => 70, \"metric\" => \"nan_euclidean\", \"weights\" => \"distance\") Accuracy: 0.37246149767618203 Fscore: 0.31171017226097086\n",
      "Parameters: Dict{Any, Any}(\"n_neighbors\" => 70, \"metric\" => \"minkowski\", \"weights\" => \"uniform\") Accuracy: 0.4078487732904148 Fscore: 0.32446172712117394\n",
      "//////////////////////////////////////////\n",
      "Best parameters: Dict{Any, Any}(\"n_neighbors\" => 70, \"metric\" => \"minkowski\", \"weights\" => \"uniform\") Best accuracy: 0.4078487732904148\n",
      "Test: Accuracy: 0.4015250139482983 Sensitivity: 0.3306455151164131 Specificity rate: 0.9062675181584475 FScore: 0.3194082576264931\n",
      "Tot: 5377 Ok: 2159 Acc: 0.4015250139482983\n"
     ]
    }
   ],
   "source": [
    "# Run the test case for K-Nearest Neighbor model\n",
    "if RUN_KNN_TEST\n",
    "    test_KNN_Model(train_input, train_output, test_input, test_output, kFoldIndices, UPDATE_FILE, KNN_FILE_PATH)\n",
    "end"
   ]
  },
  {
   "cell_type": "code",
   "execution_count": 16,
   "id": "b68b0e09",
   "metadata": {},
   "outputs": [
    {
     "name": "stdout",
     "output_type": "stream",
     "text": [
      "Parameters: Dict{Any, Any}(\"maxEpochs\" => 1000, \"learningRate\" => 0.01, \"topology\" => (8, 8, 8), \"validationRatio\" => 0.0, \"activation\" => \"relu\") Accuracy: 0.39805977588143626 Fscore: 0.2986940477899128\n",
      "Parameters: Dict{Any, Any}(\"maxEpochs\" => 1000, \"learningRate\" => 0.01, \"topology\" => (16, 12, 8), \"validationRatio\" => 0.0, \"activation\" => \"relu\") Accuracy: 0.40954125870346775 Fscore: 0.316902146578022\n",
      "Parameters: Dict{Any, Any}(\"maxEpochs\" => 1000, \"learningRate\" => 0.01, \"topology\" => (32, 16, 8), \"validationRatio\" => 0.0, \"activation\" => \"relu\") Accuracy: 0.4128802582010054 Fscore: 0.33455035485937923\n",
      "Parameters: Dict{Any, Any}(\"maxEpochs\" => 1000, \"learningRate\" => 0.01, \"topology\" => (16, 4, 8), \"validationRatio\" => 0.0, \"activation\" => \"relu\") Accuracy: 0.3907171959618155 Fscore: 0.2785467185560971\n",
      "Parameters: Dict{Any, Any}(\"maxEpochs\" => 1000, \"learningRate\" => 0.01, \"topology\" => (24, 16, 8), \"validationRatio\" => 0.0, \"activation\" => \"relu\") Accuracy: 0.4093771871516803 Fscore: 0.3209764569268484\n",
      "Parameters: Dict{Any, Any}(\"maxEpochs\" => 1000, \"learningRate\" => 0.01, \"topology\" => (32, 24, 16, 8), \"validationRatio\" => 0.0, \"activation\" => \"relu\") Accuracy: 0.414068938430636 Fscore: 0.33344596006862626\n",
      "Parameters: Dict{Any, Any}(\"maxEpochs\" => 1000, \"learningRate\" => 0.01, \"topology\" => (64, 32, 16, 8), \"validationRatio\" => 0.0, \"activation\" => \"relu\") Accuracy: 0.4105816380702213 Fscore: 0.33032617099949585\n",
      "Parameters: Dict{Any, Any}(\"maxEpochs\" => 1000, \"learningRate\" => 0.01, \"topology\" => (20, 16, 12, 8), \"validationRatio\" => 0.0, \"activation\" => \"relu\") Accuracy: 0.39856345817299454 Fscore: 0.3058473715827855\n",
      "Parameters: Dict{Any, Any}(\"maxEpochs\" => 1000, \"learningRate\" => 0.01, \"topology\" => (8, 8, 8, 8), \"validationRatio\" => 0.0, \"activation\" => \"relu\") Accuracy: 0.3955730445807906 Fscore: 0.28651094841060026\n",
      "Parameters: Dict{Any, Any}(\"maxEpochs\" => 1000, \"learningRate\" => 0.01, \"topology\" => (64, 32, 24, 16, 8), \"validationRatio\" => 0.0, \"activation\" => \"relu\") Accuracy: 0.4057403954756914 Fscore: 0.31443393987027535\n",
      "Parameters: Dict{Any, Any}(\"maxEpochs\" => 1000, \"learningRate\" => 0.1, \"topology\" => (32, 24, 16, 8), \"validationRatio\" => 0.0, \"activation\" => \"relu\") Accuracy: 0.34063427271736874 Fscore: 0.1860031792479519\n",
      "Parameters: Dict{Any, Any}(\"maxEpochs\" => 1000, \"learningRate\" => 0.001, \"topology\" => (32, 24, 16, 8), \"validationRatio\" => 0.0, \"activation\" => \"relu\") Accuracy: 0.4054613799355664 Fscore: 0.31014099981573684\n",
      "Parameters: Dict{Any, Any}(\"maxEpochs\" => 1000, \"learningRate\" => 0.01, \"topology\" => (32, 24, 16, 8), \"validationRatio\" => 0.0, \"activation\" => \"tanh\") Accuracy: 0.40434715613054256 Fscore: 0.31746213172692805\n",
      "Parameters: Dict{Any, Any}(\"maxEpochs\" => 1000, \"learningRate\" => 0.01, \"topology\" => (32, 24, 16, 8), \"validationRatio\" => 0.0, \"activation\" => \"logistic\") Accuracy: 0.4096229037650107 Fscore: 0.32233506090413544\n",
      "Parameters: Dict{Any, Any}(\"maxEpochs\" => 1000, \"learningRate\" => 0.01, \"topology\" => (32, 24, 16, 8), \"validationRatio\" => 0.0, \"activation\" => \"identity\") Accuracy: 0.41486690297714557 Fscore: 0.3353867429868823\n",
      "//////////////////////////////////////////\n",
      "Best parameters: Dict{Any, Any}(\"maxEpochs\" => 1000, \"learningRate\" => 0.01, \"topology\" => (32, 24, 16, 8), \"validationRatio\" => 0.0, \"activation\" => \"identity\") Best accuracy: 0.41486690297714557\n",
      "Test: Accuracy: 0.40840617444671745 Sensitivity: 0.3417246897115346 Specificity rate: 0.9079419471745216 FScore: 0.33528627755080936\n",
      "Tot: 5377 Ok: 2196 Acc: 0.4084061744467175\n"
     ]
    }
   ],
   "source": [
    "# Run the test case for Multi-layer Perceptron model\n",
    "if RUN_MLP_TEST\n",
    "    test_MLP_Model(train_input, train_output, test_input, test_output, kFoldIndices, UPDATE_FILE, MLP_FILE_PATH)\n",
    "end"
   ]
  },
  {
   "cell_type": "code",
   "execution_count": 17,
   "id": "729c7c44",
   "metadata": {},
   "outputs": [
    {
     "name": "stdout",
     "output_type": "stream",
     "text": [
      "Test results for GB model: \n",
      "Parameters: Dict{Any, Any}() Accuracy: 0.35972001138880694 Fscore: 0.2963248151549114\n",
      "//////////////////////////////////////////\n",
      "Best parameters: Dict{Any, Any}() Best accuracy: 0.35972001138880694\n",
      "Test: Accuracy: 0.36470150641621724 Sensitivity: 0.3389075470404528 Specificity rate: 0.9049433103025836 FScore: 0.29540609983893595\n",
      "Tot: 5377 Ok: 1961 Acc: 0.36470150641621724\n"
     ]
    }
   ],
   "source": [
    "# Run the test case for Gaussian Naive Bayes model\n",
    "if RUN_GB_TEST\n",
    "    test_GB_Model(train_input, train_output, test_input, test_output, kFoldIndices, UPDATE_FILE, GB_FILE_PATH)\n",
    "end"
   ]
  },
  {
   "cell_type": "code",
   "execution_count": 18,
   "id": "c1b006ef",
   "metadata": {},
   "outputs": [
    {
     "name": "stdout",
     "output_type": "stream",
     "text": [
      "Test results for LR model: \n",
      "Parameters: Dict{Any, Any}(\"max_iter\" => 1000, \"multi_class\" => \"multinomial\") Accuracy: 0.4063469582363 Fscore: 0.3258943824508269\n",
      "Parameters: Dict{Any, Any}(\"max_iter\" => 2000, \"multi_class\" => \"multinomial\") Accuracy: 0.4063469582363 Fscore: 0.3258943824508269\n",
      "Parameters: Dict{Any, Any}(\"max_iter\" => 800, \"multi_class\" => \"multinomial\") Accuracy: 0.4063469582363 Fscore: 0.3258943824508269\n",
      "Parameters: Dict{Any, Any}(\"max_iter\" => 500, \"multi_class\" => \"multinomial\") Accuracy: 0.4063469582363 Fscore: 0.3258943824508269\n",
      "//////////////////////////////////////////\n",
      "Best parameters: Dict{Any, Any}(\"max_iter\" => 1000, \"multi_class\" => \"multinomial\") Best accuracy: 0.4063469582363\n",
      "Test: Accuracy: 0.4067323786498047 Sensitivity: 0.34292284827288844 Specificity rate: 0.9071518652685511 FScore: 0.3250042034699196\n",
      "Tot: 5377 Ok: 2187 Acc: 0.4067323786498047\n"
     ]
    }
   ],
   "source": [
    "# Run the test case for Logistic Regression model\n",
    "if RUN_LR_TEST\n",
    "    test_LR_Model(train_input, train_output, test_input, test_output, kFoldIndices, UPDATE_FILE, LR_FILE_PATH)\n",
    "end"
   ]
  },
  {
   "cell_type": "code",
   "execution_count": 19,
   "id": "70c44313",
   "metadata": {},
   "outputs": [
    {
     "name": "stdout",
     "output_type": "stream",
     "text": [
      "Test results for NC model: \n",
      "Parameters: Dict{Any, Any}() Accuracy: 0.32900885861454465 Fscore: 0.28638589655828994\n",
      "//////////////////////////////////////////\n",
      "Best parameters: Dict{Any, Any}() Best accuracy: 0.32900885861454465\n",
      "Test: Accuracy: 0.33327134089641064 Sensitivity: 0.34278435406991037 Specificity rate: 0.903170348041426 FScore: 0.28781542467962634\n",
      "Tot: 5377 Ok: 1792 Acc: 0.33327134089641064\n"
     ]
    }
   ],
   "source": [
    "# Run the test case for Nearest centroid model\n",
    "if RUN_NC_TEST\n",
    "    test_NC_Model(train_input, train_output, test_input, test_output, kFoldIndices, UPDATE_FILE, NC_FILE_PATH)\n",
    "end"
   ]
  },
  {
   "cell_type": "code",
   "execution_count": 20,
   "id": "5adf4c21",
   "metadata": {},
   "outputs": [
    {
     "name": "stdout",
     "output_type": "stream",
     "text": [
      "Test results for RN model: \n",
      "Parameters: Dict{Any, Any}() Accuracy: 0.3208199101305804 Fscore: 0.12774313349970054\n",
      "//////////////////////////////////////////\n",
      "Best parameters: Dict{Any, Any}() Best accuracy: 0.3208199101305804\n",
      "Test: Accuracy: 0.31653338292728284 Sensitivity: 0.18408523340849461 Specificity rate: 0.8847537718666479 FScore: 0.12648380808891338\n",
      "Tot: 5377 Ok: 1702 Acc: 0.3165333829272829\n"
     ]
    }
   ],
   "source": [
    "# Run the test case for Radius Neighbors model\n",
    "if RUN_RN_TEST\n",
    "    test_RN_Model(train_input, train_output, test_input, test_output, kFoldIndices, UPDATE_FILE, RN_FILE_PATH)\n",
    "end"
   ]
  },
  {
   "cell_type": "code",
   "execution_count": 21,
   "id": "9c94c297",
   "metadata": {},
   "outputs": [
    {
     "name": "stdout",
     "output_type": "stream",
     "text": [
      "Test results for RR model: \n",
      "Parameters: Dict{Any, Any}() Accuracy: 0.38952966068750655 Fscore: 0.26842682400929085\n",
      "//////////////////////////////////////////\n",
      "Best parameters: Dict{Any, Any}() Best accuracy: 0.38952966068750655\n",
      "Test: Accuracy: 0.39185419378835784 Sensitivity: 0.30658590597688556 Specificity rate: 0.9035209226845062 FScore: 0.27596552328200097\n",
      "Tot: 5377 Ok: 2107 Acc: 0.39185419378835784\n"
     ]
    }
   ],
   "source": [
    "# Run the test case for Ridge Regression model\n",
    "if RUN_RR_TEST\n",
    "    test_RR_Model(train_input, train_output, test_input, test_output, kFoldIndices, UPDATE_FILE, RR_FILE_PATH)\n",
    "end"
   ]
  },
  {
   "cell_type": "code",
   "execution_count": 22,
   "id": "215c96a9",
   "metadata": {},
   "outputs": [],
   "source": [
    "if RELOAD_MODELS\n",
    "    # Get the best model for Multi-layer Perceptron\n",
    "    best_MLP = loadModel(MLP_FILE_PATH)\n",
    "    # If model can not be loaded from disk, reload from code\n",
    "    if isnothing(best_MLP)\n",
    "        best_MLP = get_Best_MLP(train_input, train_output, kFoldIndices)\n",
    "    end\n",
    "    # Get the best model for Support Vector Machine\n",
    "    best_SVM = loadModel(SVM_FILE_PATH)\n",
    "    if isnothing(best_SVM)\n",
    "        best_SVM = get_Best_SVM(train_input, train_output, kFoldIndices)\n",
    "    end\n",
    "    # Get the best model for Decision Tree\n",
    "    best_DT = loadModel(DT_FILE_PATH)\n",
    "    if isnothing(best_DT)\n",
    "        best_DT = get_Best_DT(train_input, train_output, kFoldIndices)\n",
    "    end\n",
    "    # Get the best model for K-Nearest Neighbor\n",
    "    best_KNN = loadModel(KNN_FILE_PATH)\n",
    "    if isnothing(best_KNN)\n",
    "        best_KNN = get_Best_KNN(train_input, train_output, kFoldIndices)\n",
    "    end\n",
    "    # Get the best model for Gaussian Naive Bayes\n",
    "    best_GB = loadModel(GB_FILE_PATH)\n",
    "    if isnothing(best_GB)\n",
    "        best_GB = get_Best_GB(train_input, train_output, kFoldIndices)\n",
    "    end\n",
    "    # Get the best model for Logistic Regression\n",
    "    best_LR = loadModel(LR_FILE_PATH)\n",
    "    if isnothing(best_LR)\n",
    "        best_LR = get_Best_LR(train_input, train_output, kFoldIndices)\n",
    "    end\n",
    "    # Get the best model for Nearest centroid\n",
    "    best_NC = loadModel(NC_FILE_PATH)\n",
    "    if isnothing(best_NC)\n",
    "        best_NC = get_Best_NC(train_input, train_output, kFoldIndices)\n",
    "    end\n",
    "    # Get the best model for Radius Neighbors\n",
    "    best_RN = loadModel(RN_FILE_PATH)\n",
    "    if isnothing(best_RN)\n",
    "        best_RN = get_Best_RN(train_input, train_output, kFoldIndices)\n",
    "    end\n",
    "    # Get the best model for Ridge Regression\n",
    "    best_RR = loadModel(RR_FILE_PATH)\n",
    "    if isnothing(best_RR)\n",
    "        best_RR = get_Best_RR(train_input, train_output, kFoldIndices)\n",
    "    end\n",
    "end"
   ]
  },
  {
   "cell_type": "code",
   "execution_count": 23,
   "id": "0efd64e5",
   "metadata": {},
   "outputs": [
    {
     "name": "stdout",
     "output_type": "stream",
     "text": [
      "Parameters: Tuple{String, PyCall.PyObject}[(\"SVM\", PyObject SVC(C=4, gamma=2)), (\"DT\", PyObject DecisionTreeClassifier(max_depth=6, random_state=1)), (\"KNN\", PyObject KNeighborsClassifier(n_neighbors=70)), (\"MLP\", PyObject MLPClassifier(early_stopping=True, hidden_layer_sizes=(32, 24, 16, 8),\n",
      "              learning_rate_init=0.01, max_iter=1000))] Accuracy: 0.4175190626743537 Fscore: 0.330552746867838\n",
      "Parameters: Tuple{String, PyCall.PyObject}[(\"SVM\", PyObject SVC(C=4, gamma=2)), (\"LR\", PyObject LogisticRegression(max_iter=1000, multi_class='multinomial')), (\"KNN\", PyObject KNeighborsClassifier(n_neighbors=70)), (\"MLP\", PyObject MLPClassifier(early_stopping=True, hidden_layer_sizes=(32, 24, 16, 8),\n",
      "              learning_rate_init=0.01, max_iter=1000))] Accuracy: 0.41807699460665804 Fscore: 0.33736551053000496\n",
      "Parameters: Tuple{String, PyCall.PyObject}[(\"SVM\", PyObject SVC(C=4, gamma=2)), (\"DT\", PyObject DecisionTreeClassifier(max_depth=6, random_state=1)), (\"KNN\", PyObject KNeighborsClassifier(n_neighbors=70)), (\"MLP\", PyObject MLPClassifier(early_stopping=True, hidden_layer_sizes=(32, 24, 16, 8),\n",
      "              learning_rate_init=0.01, max_iter=1000)), (\"LR\", PyObject LogisticRegression(max_iter=1000, multi_class='multinomial')), (\"RR\", PyObject RidgeClassifier())] Accuracy: 0.4152873349451367 Fscore: 0.32247499388298706\n",
      "Parameters: Tuple{String, PyCall.PyObject}[(\"SVM\", PyObject SVC(C=4, gamma=2)), (\"KNN\", PyObject KNeighborsClassifier(n_neighbors=70)), (\"MLP\", PyObject MLPClassifier(early_stopping=True, hidden_layer_sizes=(32, 24, 16, 8),\n",
      "              learning_rate_init=0.01, max_iter=1000))] Accuracy: 0.4197507904035708 Fscore: 0.3430141806953932\n",
      "Parameters: Tuple{String, PyCall.PyObject}[(\"SVM\", PyObject SVC(C=4, gamma=2)), (\"RR\", PyObject RidgeClassifier()), (\"KNN\", PyObject KNeighborsClassifier(n_neighbors=70)), (\"MLP\", PyObject MLPClassifier(early_stopping=True, hidden_layer_sizes=(32, 24, 16, 8),\n",
      "              learning_rate_init=0.01, max_iter=1000))] Accuracy: 0.4173330853635856 Fscore: 0.3323413571832146\n",
      "//////////////////////////////////////////\n",
      "Best parameters: Tuple{String, PyCall.PyObject}[(\"SVM\", PyObject SVC(C=4, gamma=2)), (\"KNN\", PyObject KNeighborsClassifier(n_neighbors=70)), (\"MLP\", PyObject MLPClassifier(early_stopping=True, hidden_layer_sizes=(32, 24, 16, 8),\n",
      "              learning_rate_init=0.01, max_iter=1000))] Best accuracy: 0.4197507904035708\n",
      "Test: Accuracy: 0.4197507904035708 Sensitivity: 0.35253838997707004 Specificity rate: 0.9086225115997064 FScore: 0.3430141806953932\n",
      "Tot: 5377 Ok: 2257 Acc: 0.4197507904035708\n"
     ]
    }
   ],
   "source": [
    "if RUN_MV_TEST\n",
    "    models = Dict(\"SVM\" => best_SVM,\n",
    "              \"DT\"=> best_DT,\n",
    "              \"KNN\"=> best_KNN,\n",
    "              \"MLP\"=> best_MLP,\n",
    "              \"LR\"=> best_LR,\n",
    "              \"RR\"=> best_RR)\n",
    "\n",
    "    test_MV_Model(train_input, train_output, test_input, test_output, models, UPDATE_FILE, MV_FILE_PATH)\n",
    "end"
   ]
  },
  {
   "cell_type": "code",
   "execution_count": 24,
   "id": "4864c5fb-dc92-4870-9cf8-24ce626ee11f",
   "metadata": {},
   "outputs": [
    {
     "name": "stdout",
     "output_type": "stream",
     "text": [
      "Parameters: (Tuple{String, PyCall.PyObject}[(\"SVM\", PyObject SVC(C=4, gamma=2)), (\"DT\", PyObject DecisionTreeClassifier(max_depth=6, random_state=1)), (\"KNN\", PyObject KNeighborsClassifier(n_neighbors=70)), (\"MLP\", PyObject MLPClassifier(early_stopping=True, hidden_layer_sizes=(32, 24, 16, 8),\n",
      "              learning_rate_init=0.01, max_iter=1000))], [4, 1, 2, 3]) Accuracy: 0.42105263157894735 Fscore: 0.3437064895036706\n",
      "Parameters: (Tuple{String, PyCall.PyObject}[(\"SVM\", PyObject SVC(C=4, gamma=2)), (\"LR\", PyObject LogisticRegression(max_iter=1000, multi_class='multinomial')), (\"KNN\", PyObject KNeighborsClassifier(n_neighbors=70)), (\"MLP\", PyObject MLPClassifier(early_stopping=True, hidden_layer_sizes=(32, 24, 16, 8),\n",
      "              learning_rate_init=0.01, max_iter=1000))], [4, 2, 1, 3]) Accuracy: 0.4212386088897154 Fscore: 0.3449499465107377\n",
      "Parameters: (Tuple{String, PyCall.PyObject}[(\"SVM\", PyObject SVC(C=4, gamma=2)), (\"DT\", PyObject DecisionTreeClassifier(max_depth=6, random_state=1)), (\"KNN\", PyObject KNeighborsClassifier(n_neighbors=70)), (\"MLP\", PyObject MLPClassifier(early_stopping=True, hidden_layer_sizes=(32, 24, 16, 8),\n",
      "              learning_rate_init=0.01, max_iter=1000)), (\"LR\", PyObject LogisticRegression(max_iter=1000, multi_class='multinomial')), (\"RR\", PyObject RidgeClassifier())], [6, 2, 3, 5, 2, 1]) Accuracy: 0.42328435930816444 Fscore: 0.3431858907512494\n",
      "//////////////////////////////////////////\n",
      "Best parameters: (Tuple{String, PyCall.PyObject}[(\"SVM\", PyObject SVC(C=4, gamma=2)), (\"DT\", PyObject DecisionTreeClassifier(max_depth=6, random_state=1)), (\"KNN\", PyObject KNeighborsClassifier(n_neighbors=70)), (\"MLP\", PyObject MLPClassifier(early_stopping=True, hidden_layer_sizes=(32, 24, 16, 8),\n",
      "              learning_rate_init=0.01, max_iter=1000)), (\"LR\", PyObject LogisticRegression(max_iter=1000, multi_class='multinomial')), (\"RR\", PyObject RidgeClassifier())], [6, 2, 3, 5, 2, 1]) Best accuracy: 0.42328435930816444\n",
      "Test: Accuracy: 0.42328435930816444 Sensitivity: 0.35819982763531144 Specificity rate: 0.9094851923702617 FScore: 0.3431858907512494\n",
      "Tot: 5377 Ok: 2276 Acc: 0.4232843593081644\n"
     ]
    }
   ],
   "source": [
    "if RUN_WM_TEST\n",
    "    models = Dict(\"SVM\" => best_SVM,\n",
    "              \"DT\"=> best_DT,\n",
    "              \"KNN\"=> best_KNN,\n",
    "              \"MLP\"=> best_MLP,\n",
    "              \"LR\"=> best_LR,\n",
    "              \"RR\"=> best_RR)\n",
    "\n",
    "    test_WM_Model(train_input, train_output, test_input, test_output, models, UPDATE_FILE, WM_FILE_PATH)\n",
    "end"
   ]
  },
  {
   "cell_type": "code",
   "execution_count": 25,
   "id": "9eca1338-04ed-4946-a18b-c83ffe3f1f5d",
   "metadata": {},
   "outputs": [
    {
     "name": "stdout",
     "output_type": "stream",
     "text": [
      "Parameters: Tuple{String, PyCall.PyObject}[(\"SVM\", PyObject SVC(C=4, gamma=2)), (\"DT\", PyObject DecisionTreeClassifier(max_depth=6, random_state=1)), (\"KNN\", PyObject KNeighborsClassifier(n_neighbors=70)), (\"MLP\", PyObject MLPClassifier(early_stopping=True, hidden_layer_sizes=(32, 24, 16, 8),\n",
      "              learning_rate_init=0.01, max_iter=1000))] Accuracy: 0.42086665426817926 Fscore: 0.33694224880845464\n",
      "Parameters: Tuple{String, PyCall.PyObject}[(\"SVM\", PyObject SVC(C=4, gamma=2)), (\"LR\", PyObject LogisticRegression(max_iter=1000, multi_class='multinomial')), (\"KNN\", PyObject KNeighborsClassifier(n_neighbors=70)), (\"MLP\", PyObject MLPClassifier(early_stopping=True, hidden_layer_sizes=(32, 24, 16, 8),\n",
      "              learning_rate_init=0.01, max_iter=1000))] Accuracy: 0.42012274502510694 Fscore: 0.3352953645830552\n",
      "Parameters: Tuple{String, PyCall.PyObject}[(\"SVM\", PyObject SVC(C=4, gamma=2)), (\"DT\", PyObject DecisionTreeClassifier(max_depth=6, random_state=1)), (\"KNN\", PyObject KNeighborsClassifier(n_neighbors=70)), (\"MLP\", PyObject MLPClassifier(early_stopping=True, hidden_layer_sizes=(32, 24, 16, 8),\n",
      "              learning_rate_init=0.01, max_iter=1000)), (\"LR\", PyObject LogisticRegression(max_iter=1000, multi_class='multinomial')), (\"RR\", PyObject RidgeClassifier())] Accuracy: 0.4191928584712665 Fscore: 0.33599995060717736\n",
      "//////////////////////////////////////////\n",
      "Best parameters: Tuple{String, PyCall.PyObject}[(\"SVM\", PyObject SVC(C=4, gamma=2)), (\"DT\", PyObject DecisionTreeClassifier(max_depth=6, random_state=1)), (\"KNN\", PyObject KNeighborsClassifier(n_neighbors=70)), (\"MLP\", PyObject MLPClassifier(early_stopping=True, hidden_layer_sizes=(32, 24, 16, 8),\n",
      "              learning_rate_init=0.01, max_iter=1000))] Best accuracy: 0.42086665426817926\n",
      "Test: Accuracy: 0.42086665426817926 Sensitivity: 0.355681827877688 Specificity rate: 0.9091976178368839 FScore: 0.33694224880845464\n",
      "Tot: 5377 Ok: 2263 Acc: 0.42086665426817926\n"
     ]
    }
   ],
   "source": [
    "if RUN_ST_TEST\n",
    "    models = Dict(\"SVM\" => best_SVM,\n",
    "              \"DT\"=> best_DT,\n",
    "              \"KNN\"=> best_KNN,\n",
    "              \"MLP\"=> best_MLP,\n",
    "              \"LR\"=> best_LR,\n",
    "              \"RR\"=> best_RR)\n",
    "\n",
    "    test_ST_Model(train_input, train_output, test_input, test_output, models, UPDATE_FILE, ST_FILE_PATH)\n",
    "end"
   ]
  },
  {
   "cell_type": "code",
   "execution_count": 26,
   "id": "054be4e4-0185-4058-ab84-ba5aaeb1c8f7",
   "metadata": {},
   "outputs": [
    {
     "name": "stdout",
     "output_type": "stream",
     "text": [
      "Parameters: Tuple{String, PyCall.PyObject, Int64, Float64}[(\"SVM\", PyObject SVC(C=4, gamma=2), 10, 0.5)] Accuracy: 0.41882090384973036 Fscore: 0.34535828277734354\n",
      "Parameters: Tuple{String, PyCall.PyObject, Int64, Float64}[(\"SVM\", PyObject SVC(C=4, gamma=2), 10, 0.9)] Accuracy: 0.4171471080528175 Fscore: 0.3438249281042976\n",
      "Parameters: Tuple{String, PyCall.PyObject, Int64, Float64}[(\"DT\", PyObject DecisionTreeClassifier(max_depth=6, random_state=1), 10, 0.5)] Accuracy: 0.4102659475543984 Fscore: 0.31395930502784813\n",
      "Parameters: Tuple{String, PyCall.PyObject, Int64, Float64}[(\"KNN\", PyObject KNeighborsClassifier(n_neighbors=70), 10, 0.5)] Accuracy: 0.3924121257206621 Fscore: 0.2968015119128017\n",
      "Parameters: Tuple{String, PyCall.PyObject, Int64, Float64}[(\"MLP\", PyObject MLPClassifier(early_stopping=True, hidden_layer_sizes=(32, 24, 16, 8),\n",
      "              learning_rate_init=0.01, max_iter=1000), 10, 0.5)] Accuracy: 0.41156778872977495 Fscore: 0.31908581923000295\n",
      "Parameters: Tuple{String, PyCall.PyObject, Int64, Float64}[(\"LR\", PyObject LogisticRegression(max_iter=1000, multi_class='multinomial'), 10, 0.5)] Accuracy: 0.4069183559605728 Fscore: 0.3214132687310027\n",
      "//////////////////////////////////////////\n",
      "Best parameters: Tuple{String, PyCall.PyObject, Int64, Float64}[(\"SVM\", PyObject SVC(C=4, gamma=2), 10, 0.5)] Best accuracy: 0.41882090384973036\n",
      "Test: Accuracy: 0.41882090384973036 Sensitivity: 0.35285855208331196 Specificity rate: 0.9087135415421593 FScore: 0.34535828277734354\n",
      "Tot: 5377 Ok: 2252 Acc: 0.4188209038497303\n"
     ]
    }
   ],
   "source": [
    "if RUN_BG_TEST\n",
    "    models = Dict(\"SVM\" => best_SVM,\n",
    "              \"DT\"=> best_DT,\n",
    "              \"KNN\"=> best_KNN,\n",
    "              \"MLP\"=> best_MLP,\n",
    "              \"LR\"=> best_LR,\n",
    "              \"RR\"=> best_RR)\n",
    "\n",
    "    test_BG_Model(train_input, train_output, test_input, test_output, models, UPDATE_FILE, BG_FILE_PATH)\n",
    "end"
   ]
  },
  {
   "cell_type": "code",
   "execution_count": 27,
   "id": "e95a5e95-9a82-466e-b46b-146f3e20404f",
   "metadata": {},
   "outputs": [
    {
     "name": "stdout",
     "output_type": "stream",
     "text": [
      "Parameters: Dict{String, Any}(\"SVM\" => PyObject SVC(C=4, gamma=2), \"algorithm\" => \"SAMME\", \"random_state\" => 0, \"learning_rate\" => 1.0, \"n_estimators\" => 10) Accuracy: 0.2718988283429422 Fscore: 0.05344348588974996\n",
      "Parameters: Dict{String, Any}(\"DT\" => PyObject DecisionTreeClassifier(max_depth=6, random_state=1), \"algorithm\" => \"SAMME\", \"random_state\" => 0, \"learning_rate\" => 1.0, \"n_estimators\" => 10) Accuracy: 0.3596801190254789 Fscore: 0.31893307845901303\n",
      "Parameters: Dict{String, Any}(\"LR\" => PyObject LogisticRegression(max_iter=1000, multi_class='multinomial'), \"algorithm\" => \"SAMME\", \"random_state\" => 0, \"learning_rate\" => 1.0, \"n_estimators\" => 10) Accuracy: 0.22856611493397805 Fscore: 0.053273390875982665\n",
      "Parameters: Dict{String, Any}(\"RR\" => PyObject RidgeClassifier(), \"algorithm\" => \"SAMME\", \"random_state\" => 0, \"learning_rate\" => 1.0, \"n_estimators\" => 10) Accuracy: 0.3293658173702808 Fscore: 0.2326416192284925\n",
      "//////////////////////////////////////////\n",
      "Best parameters: Dict{String, Any}(\"DT\" => PyObject DecisionTreeClassifier(max_depth=6, random_state=1), \"algorithm\" => \"SAMME\", \"random_state\" => 0, \"learning_rate\" => 1.0, \"n_estimators\" => 10) Best accuracy: 0.3596801190254789\n",
      "Test: Accuracy: 0.3596801190254789 Sensitivity: 0.3154296525054768 Specificity rate: 0.9020824991556143 FScore: 0.31893307845901303\n",
      "Tot: 5377 Ok: 1934 Acc: 0.3596801190254789\n"
     ]
    }
   ],
   "source": [
    "if RUN_BA_TEST\n",
    "    models = Dict(\"SVM\" => best_SVM,\n",
    "              \"DT\"=> best_DT,\n",
    "              \"KNN\"=> best_KNN,\n",
    "              \"MLP\"=> best_MLP,\n",
    "              \"LR\"=> best_LR,\n",
    "              \"RR\"=> best_RR)\n",
    "\n",
    "    test_BA_Model(train_input, train_output, test_input, test_output, models, UPDATE_FILE, BA_FILE_PATH)\n",
    "end"
   ]
  },
  {
   "cell_type": "code",
   "execution_count": 28,
   "id": "b7eaf706-1c7d-4d5c-98b9-fa86cfb3662a",
   "metadata": {},
   "outputs": [
    {
     "name": "stdout",
     "output_type": "stream",
     "text": [
      "Parameters: Dict{String, Real}(\"max_depth\" => 2, \"random_state\" => 0, \"learning_rate\" => 1.0, \"n_estimators\" => 10) Accuracy: 0.34461595685326385 Fscore: 0.2660830686353344\n",
      "Parameters: Dict{String, Real}(\"max_depth\" => 2, \"random_state\" => 0, \"learning_rate\" => 0.1, \"n_estimators\" => 10) Accuracy: 0.3974335131114004 Fscore: 0.28151411166883705\n",
      "Parameters: Dict{String, Real}(\"max_depth\" => 2, \"random_state\" => 0, \"learning_rate\" => 0.01, \"n_estimators\" => 10) Accuracy: 0.3974335131114004 Fscore: 0.28151411166883705\n",
      "Parameters: Dict(\"max_depth\" => 5, \"random_state\" => 0, \"learning_rate\" => 1, \"n_estimators\" => 10) Accuracy: 0.35521666356704484 Fscore: 0.31249040036005526\n",
      "Parameters: Dict{String, Real}(\"max_depth\" => 5, \"random_state\" => 0, \"learning_rate\" => 0.1, \"n_estimators\" => 10) Accuracy: 0.4128696299051515 Fscore: 0.3280385234550531\n",
      "//////////////////////////////////////////\n",
      "Best parameters: Dict{String, Real}(\"max_depth\" => 5, \"random_state\" => 0, \"learning_rate\" => 0.1, \"n_estimators\" => 10) Best accuracy: 0.4128696299051515\n",
      "Test: Accuracy: 0.4128696299051515 Sensitivity: 0.3368177086617648 Specificity rate: 0.9070895979734497 FScore: 0.3280385234550531\n",
      "Tot: 5377 Ok: 2220 Acc: 0.4128696299051516\n"
     ]
    }
   ],
   "source": [
    "if RUN_GR_TEST\n",
    "    test_GR_Model(train_input, train_output, test_input, test_output, UPDATE_FILE, GR_FILE_PATH)\n",
    "end"
   ]
  },
  {
   "cell_type": "code",
   "execution_count": 29,
   "id": "6625c515-48c9-451c-9992-788fdf9df367",
   "metadata": {},
   "outputs": [
    {
     "name": "stdout",
     "output_type": "stream",
     "text": [
      "Test results for RF model: \n",
      "Parameters: Dict{Any, Any}(\"max_depth\" => 5, \"n_estimators\" => 50, \"max_features\" => \"auto\") Accuracy: 0.4033118934688452 Fscore: 0.2887072643377468\n",
      "Parameters: "
     ]
    },
    {
     "name": "stderr",
     "output_type": "stream",
     "text": [
      "/usr/local/lib/python3.9/dist-packages/sklearn/ensemble/_forest.py:427: FutureWarning: `max_features='auto'` has been deprecated in 1.1 and will be removed in 1.3. To keep the past behaviour, explicitly set `max_features='sqrt'` or remove this parameter as it is also the default value for RandomForestClassifiers and ExtraTreesClassifiers.\n",
      "  warn(\n",
      "/usr/local/lib/python3.9/dist-packages/sklearn/ensemble/_forest.py:427: FutureWarning: `max_features='auto'` has been deprecated in 1.1 and will be removed in 1.3. To keep the past behaviour, explicitly set `max_features='sqrt'` or remove this parameter as it is also the default value for RandomForestClassifiers and ExtraTreesClassifiers.\n",
      "  warn(\n",
      "/usr/local/lib/python3.9/dist-packages/sklearn/ensemble/_forest.py:427: FutureWarning: `max_features='auto'` has been deprecated in 1.1 and will be removed in 1.3. To keep the past behaviour, explicitly set `max_features='sqrt'` or remove this parameter as it is also the default value for RandomForestClassifiers and ExtraTreesClassifiers.\n",
      "  warn(\n",
      "/usr/local/lib/python3.9/dist-packages/sklearn/ensemble/_forest.py:427: FutureWarning: `max_features='auto'` has been deprecated in 1.1 and will be removed in 1.3. To keep the past behaviour, explicitly set `max_features='sqrt'` or remove this parameter as it is also the default value for RandomForestClassifiers and ExtraTreesClassifiers.\n",
      "  warn(\n",
      "/usr/local/lib/python3.9/dist-packages/sklearn/ensemble/_forest.py:427: FutureWarning: `max_features='auto'` has been deprecated in 1.1 and will be removed in 1.3. To keep the past behaviour, explicitly set `max_features='sqrt'` or remove this parameter as it is also the default value for RandomForestClassifiers and ExtraTreesClassifiers.\n",
      "  warn(\n",
      "/usr/local/lib/python3.9/dist-packages/sklearn/ensemble/_forest.py:427: FutureWarning: `max_features='auto'` has been deprecated in 1.1 and will be removed in 1.3. To keep the past behaviour, explicitly set `max_features='sqrt'` or remove this parameter as it is also the default value for RandomForestClassifiers and ExtraTreesClassifiers.\n",
      "  warn(\n",
      "/usr/local/lib/python3.9/dist-packages/sklearn/ensemble/_forest.py:427: FutureWarning: `max_features='auto'` has been deprecated in 1.1 and will be removed in 1.3. To keep the past behaviour, explicitly set `max_features='sqrt'` or remove this parameter as it is also the default value for RandomForestClassifiers and ExtraTreesClassifiers.\n",
      "  warn(\n",
      "/usr/local/lib/python3.9/dist-packages/sklearn/ensemble/_forest.py:427: FutureWarning: `max_features='auto'` has been deprecated in 1.1 and will be removed in 1.3. To keep the past behaviour, explicitly set `max_features='sqrt'` or remove this parameter as it is also the default value for RandomForestClassifiers and ExtraTreesClassifiers.\n",
      "  warn(\n",
      "/usr/local/lib/python3.9/dist-packages/sklearn/ensemble/_forest.py:427: FutureWarning: `max_features='auto'` has been deprecated in 1.1 and will be removed in 1.3. To keep the past behaviour, explicitly set `max_features='sqrt'` or remove this parameter as it is also the default value for RandomForestClassifiers and ExtraTreesClassifiers.\n",
      "  warn(\n",
      "/usr/local/lib/python3.9/dist-packages/sklearn/ensemble/_forest.py:427: FutureWarning: `max_features='auto'` has been deprecated in 1.1 and will be removed in 1.3. To keep the past behaviour, explicitly set `max_features='sqrt'` or remove this parameter as it is also the default value for RandomForestClassifiers and ExtraTreesClassifiers.\n",
      "  warn(\n",
      "/usr/local/lib/python3.9/dist-packages/sklearn/ensemble/_forest.py:427: FutureWarning: `max_features='auto'` has been deprecated in 1.1 and will be removed in 1.3. To keep the past behaviour, explicitly set `max_features='sqrt'` or remove this parameter as it is also the default value for RandomForestClassifiers and ExtraTreesClassifiers.\n",
      "  warn(\n",
      "/usr/local/lib/python3.9/dist-packages/sklearn/ensemble/_forest.py:427: FutureWarning: `max_features='auto'` has been deprecated in 1.1 and will be removed in 1.3. To keep the past behaviour, explicitly set `max_features='sqrt'` or remove this parameter as it is also the default value for RandomForestClassifiers and ExtraTreesClassifiers.\n",
      "  warn(\n",
      "/usr/local/lib/python3.9/dist-packages/sklearn/ensemble/_forest.py:427: FutureWarning: `max_features='auto'` has been deprecated in 1.1 and will be removed in 1.3. To keep the past behaviour, explicitly set `max_features='sqrt'` or remove this parameter as it is also the default value for RandomForestClassifiers and ExtraTreesClassifiers.\n",
      "  warn(\n",
      "/usr/local/lib/python3.9/dist-packages/sklearn/ensemble/_forest.py:427: FutureWarning: `max_features='auto'` has been deprecated in 1.1 and will be removed in 1.3. To keep the past behaviour, explicitly set `max_features='sqrt'` or remove this parameter as it is also the default value for RandomForestClassifiers and ExtraTreesClassifiers.\n",
      "  warn(\n",
      "/usr/local/lib/python3.9/dist-packages/sklearn/ensemble/_forest.py:427: FutureWarning: `max_features='auto'` has been deprecated in 1.1 and will be removed in 1.3. To keep the past behaviour, explicitly set `max_features='sqrt'` or remove this parameter as it is also the default value for RandomForestClassifiers and ExtraTreesClassifiers.\n",
      "  warn(\n",
      "/usr/local/lib/python3.9/dist-packages/sklearn/ensemble/_forest.py:427: FutureWarning: `max_features='auto'` has been deprecated in 1.1 and will be removed in 1.3. To keep the past behaviour, explicitly set `max_features='sqrt'` or remove this parameter as it is also the default value for RandomForestClassifiers and ExtraTreesClassifiers.\n",
      "  warn(\n",
      "/usr/local/lib/python3.9/dist-packages/sklearn/ensemble/_forest.py:427: FutureWarning: `max_features='auto'` has been deprecated in 1.1 and will be removed in 1.3. To keep the past behaviour, explicitly set `max_features='sqrt'` or remove this parameter as it is also the default value for RandomForestClassifiers and ExtraTreesClassifiers.\n",
      "  warn(\n",
      "/usr/local/lib/python3.9/dist-packages/sklearn/ensemble/_forest.py:427: FutureWarning: `max_features='auto'` has been deprecated in 1.1 and will be removed in 1.3. To keep the past behaviour, explicitly set `max_features='sqrt'` or remove this parameter as it is also the default value for RandomForestClassifiers and ExtraTreesClassifiers.\n",
      "  warn(\n",
      "/usr/local/lib/python3.9/dist-packages/sklearn/ensemble/_forest.py:427: FutureWarning: `max_features='auto'` has been deprecated in 1.1 and will be removed in 1.3. To keep the past behaviour, explicitly set `max_features='sqrt'` or remove this parameter as it is also the default value for RandomForestClassifiers and ExtraTreesClassifiers.\n",
      "  warn(\n",
      "/usr/local/lib/python3.9/dist-packages/sklearn/ensemble/_forest.py:427: FutureWarning: `max_features='auto'` has been deprecated in 1.1 and will be removed in 1.3. To keep the past behaviour, explicitly set `max_features='sqrt'` or remove this parameter as it is also the default value for RandomForestClassifiers and ExtraTreesClassifiers.\n",
      "  warn(\n"
     ]
    },
    {
     "name": "stdout",
     "output_type": "stream",
     "text": [
      "Dict{Any, Any}(\"max_depth\" => 10, \"n_estimators\" => 50, \"max_features\" => \"auto\") Accuracy: 0.4283379812596051 Fscore: 0.34331354806554526\n"
     ]
    },
    {
     "name": "stderr",
     "output_type": "stream",
     "text": [
      "/usr/local/lib/python3.9/dist-packages/sklearn/ensemble/_forest.py:427: FutureWarning: `max_features='auto'` has been deprecated in 1.1 and will be removed in 1.3. To keep the past behaviour, explicitly set `max_features='sqrt'` or remove this parameter as it is also the default value for RandomForestClassifiers and ExtraTreesClassifiers.\n",
      "  warn(\n",
      "/usr/local/lib/python3.9/dist-packages/sklearn/ensemble/_forest.py:427: FutureWarning: `max_features='auto'` has been deprecated in 1.1 and will be removed in 1.3. To keep the past behaviour, explicitly set `max_features='sqrt'` or remove this parameter as it is also the default value for RandomForestClassifiers and ExtraTreesClassifiers.\n",
      "  warn(\n",
      "/usr/local/lib/python3.9/dist-packages/sklearn/ensemble/_forest.py:427: FutureWarning: `max_features='auto'` has been deprecated in 1.1 and will be removed in 1.3. To keep the past behaviour, explicitly set `max_features='sqrt'` or remove this parameter as it is also the default value for RandomForestClassifiers and ExtraTreesClassifiers.\n",
      "  warn(\n",
      "/usr/local/lib/python3.9/dist-packages/sklearn/ensemble/_forest.py:427: FutureWarning: `max_features='auto'` has been deprecated in 1.1 and will be removed in 1.3. To keep the past behaviour, explicitly set `max_features='sqrt'` or remove this parameter as it is also the default value for RandomForestClassifiers and ExtraTreesClassifiers.\n",
      "  warn(\n",
      "/usr/local/lib/python3.9/dist-packages/sklearn/ensemble/_forest.py:427: FutureWarning: `max_features='auto'` has been deprecated in 1.1 and will be removed in 1.3. To keep the past behaviour, explicitly set `max_features='sqrt'` or remove this parameter as it is also the default value for RandomForestClassifiers and ExtraTreesClassifiers.\n",
      "  warn(\n",
      "/usr/local/lib/python3.9/dist-packages/sklearn/ensemble/_forest.py:427: FutureWarning: `max_features='auto'` has been deprecated in 1.1 and will be removed in 1.3. To keep the past behaviour, explicitly set `max_features='sqrt'` or remove this parameter as it is also the default value for RandomForestClassifiers and ExtraTreesClassifiers.\n",
      "  warn(\n",
      "/usr/local/lib/python3.9/dist-packages/sklearn/ensemble/_forest.py:427: FutureWarning: `max_features='auto'` has been deprecated in 1.1 and will be removed in 1.3. To keep the past behaviour, explicitly set `max_features='sqrt'` or remove this parameter as it is also the default value for RandomForestClassifiers and ExtraTreesClassifiers.\n",
      "  warn(\n",
      "/usr/local/lib/python3.9/dist-packages/sklearn/ensemble/_forest.py:427: FutureWarning: `max_features='auto'` has been deprecated in 1.1 and will be removed in 1.3. To keep the past behaviour, explicitly set `max_features='sqrt'` or remove this parameter as it is also the default value for RandomForestClassifiers and ExtraTreesClassifiers.\n",
      "  warn(\n",
      "/usr/local/lib/python3.9/dist-packages/sklearn/ensemble/_forest.py:427: FutureWarning: `max_features='auto'` has been deprecated in 1.1 and will be removed in 1.3. To keep the past behaviour, explicitly set `max_features='sqrt'` or remove this parameter as it is also the default value for RandomForestClassifiers and ExtraTreesClassifiers.\n",
      "  warn(\n",
      "/usr/local/lib/python3.9/dist-packages/sklearn/ensemble/_forest.py:427: FutureWarning: `max_features='auto'` has been deprecated in 1.1 and will be removed in 1.3. To keep the past behaviour, explicitly set `max_features='sqrt'` or remove this parameter as it is also the default value for RandomForestClassifiers and ExtraTreesClassifiers.\n",
      "  warn(\n",
      "/usr/local/lib/python3.9/dist-packages/sklearn/ensemble/_forest.py:427: FutureWarning: `max_features='auto'` has been deprecated in 1.1 and will be removed in 1.3. To keep the past behaviour, explicitly set `max_features='sqrt'` or remove this parameter as it is also the default value for RandomForestClassifiers and ExtraTreesClassifiers.\n",
      "  warn(\n",
      "/usr/local/lib/python3.9/dist-packages/sklearn/ensemble/_forest.py:427: FutureWarning: `max_features='auto'` has been deprecated in 1.1 and will be removed in 1.3. To keep the past behaviour, explicitly set `max_features='sqrt'` or remove this parameter as it is also the default value for RandomForestClassifiers and ExtraTreesClassifiers.\n",
      "  warn(\n",
      "/usr/local/lib/python3.9/dist-packages/sklearn/ensemble/_forest.py:427: FutureWarning: `max_features='auto'` has been deprecated in 1.1 and will be removed in 1.3. To keep the past behaviour, explicitly set `max_features='sqrt'` or remove this parameter as it is also the default value for RandomForestClassifiers and ExtraTreesClassifiers.\n",
      "  warn(\n",
      "/usr/local/lib/python3.9/dist-packages/sklearn/ensemble/_forest.py:427: FutureWarning: `max_features='auto'` has been deprecated in 1.1 and will be removed in 1.3. To keep the past behaviour, explicitly set `max_features='sqrt'` or remove this parameter as it is also the default value for RandomForestClassifiers and ExtraTreesClassifiers.\n",
      "  warn(\n",
      "/usr/local/lib/python3.9/dist-packages/sklearn/ensemble/_forest.py:427: FutureWarning: `max_features='auto'` has been deprecated in 1.1 and will be removed in 1.3. To keep the past behaviour, explicitly set `max_features='sqrt'` or remove this parameter as it is also the default value for RandomForestClassifiers and ExtraTreesClassifiers.\n",
      "  warn(\n",
      "/usr/local/lib/python3.9/dist-packages/sklearn/ensemble/_forest.py:427: FutureWarning: `max_features='auto'` has been deprecated in 1.1 and will be removed in 1.3. To keep the past behaviour, explicitly set `max_features='sqrt'` or remove this parameter as it is also the default value for RandomForestClassifiers and ExtraTreesClassifiers.\n",
      "  warn(\n",
      "/usr/local/lib/python3.9/dist-packages/sklearn/ensemble/_forest.py:427: FutureWarning: `max_features='auto'` has been deprecated in 1.1 and will be removed in 1.3. To keep the past behaviour, explicitly set `max_features='sqrt'` or remove this parameter as it is also the default value for RandomForestClassifiers and ExtraTreesClassifiers.\n",
      "  warn(\n",
      "/usr/local/lib/python3.9/dist-packages/sklearn/ensemble/_forest.py:427: FutureWarning: `max_features='auto'` has been deprecated in 1.1 and will be removed in 1.3. To keep the past behaviour, explicitly set `max_features='sqrt'` or remove this parameter as it is also the default value for RandomForestClassifiers and ExtraTreesClassifiers.\n",
      "  warn(\n",
      "/usr/local/lib/python3.9/dist-packages/sklearn/ensemble/_forest.py:427: FutureWarning: `max_features='auto'` has been deprecated in 1.1 and will be removed in 1.3. To keep the past behaviour, explicitly set `max_features='sqrt'` or remove this parameter as it is also the default value for RandomForestClassifiers and ExtraTreesClassifiers.\n",
      "  warn(\n",
      "/usr/local/lib/python3.9/dist-packages/sklearn/ensemble/_forest.py:427: FutureWarning: `max_features='auto'` has been deprecated in 1.1 and will be removed in 1.3. To keep the past behaviour, explicitly set `max_features='sqrt'` or remove this parameter as it is also the default value for RandomForestClassifiers and ExtraTreesClassifiers.\n",
      "  warn(\n"
     ]
    },
    {
     "name": "stdout",
     "output_type": "stream",
     "text": [
      "Parameters: Dict{Any, Any}(\"max_depth\" => 20, \"n_estimators\" => 50, \"max_features\" => \"auto\") Accuracy: 0.39351631283439426 Fscore: 0.3441033723039616\n",
      "Parameters: "
     ]
    },
    {
     "name": "stderr",
     "output_type": "stream",
     "text": [
      "/usr/local/lib/python3.9/dist-packages/sklearn/ensemble/_forest.py:427: FutureWarning: `max_features='auto'` has been deprecated in 1.1 and will be removed in 1.3. To keep the past behaviour, explicitly set `max_features='sqrt'` or remove this parameter as it is also the default value for RandomForestClassifiers and ExtraTreesClassifiers.\n",
      "  warn(\n",
      "/usr/local/lib/python3.9/dist-packages/sklearn/ensemble/_forest.py:427: FutureWarning: `max_features='auto'` has been deprecated in 1.1 and will be removed in 1.3. To keep the past behaviour, explicitly set `max_features='sqrt'` or remove this parameter as it is also the default value for RandomForestClassifiers and ExtraTreesClassifiers.\n",
      "  warn(\n",
      "/usr/local/lib/python3.9/dist-packages/sklearn/ensemble/_forest.py:427: FutureWarning: `max_features='auto'` has been deprecated in 1.1 and will be removed in 1.3. To keep the past behaviour, explicitly set `max_features='sqrt'` or remove this parameter as it is also the default value for RandomForestClassifiers and ExtraTreesClassifiers.\n",
      "  warn(\n",
      "/usr/local/lib/python3.9/dist-packages/sklearn/ensemble/_forest.py:427: FutureWarning: `max_features='auto'` has been deprecated in 1.1 and will be removed in 1.3. To keep the past behaviour, explicitly set `max_features='sqrt'` or remove this parameter as it is also the default value for RandomForestClassifiers and ExtraTreesClassifiers.\n",
      "  warn(\n",
      "/usr/local/lib/python3.9/dist-packages/sklearn/ensemble/_forest.py:427: FutureWarning: `max_features='auto'` has been deprecated in 1.1 and will be removed in 1.3. To keep the past behaviour, explicitly set `max_features='sqrt'` or remove this parameter as it is also the default value for RandomForestClassifiers and ExtraTreesClassifiers.\n",
      "  warn(\n",
      "/usr/local/lib/python3.9/dist-packages/sklearn/ensemble/_forest.py:427: FutureWarning: `max_features='auto'` has been deprecated in 1.1 and will be removed in 1.3. To keep the past behaviour, explicitly set `max_features='sqrt'` or remove this parameter as it is also the default value for RandomForestClassifiers and ExtraTreesClassifiers.\n",
      "  warn(\n",
      "/usr/local/lib/python3.9/dist-packages/sklearn/ensemble/_forest.py:427: FutureWarning: `max_features='auto'` has been deprecated in 1.1 and will be removed in 1.3. To keep the past behaviour, explicitly set `max_features='sqrt'` or remove this parameter as it is also the default value for RandomForestClassifiers and ExtraTreesClassifiers.\n",
      "  warn(\n",
      "/usr/local/lib/python3.9/dist-packages/sklearn/ensemble/_forest.py:427: FutureWarning: `max_features='auto'` has been deprecated in 1.1 and will be removed in 1.3. To keep the past behaviour, explicitly set `max_features='sqrt'` or remove this parameter as it is also the default value for RandomForestClassifiers and ExtraTreesClassifiers.\n",
      "  warn(\n",
      "/usr/local/lib/python3.9/dist-packages/sklearn/ensemble/_forest.py:427: FutureWarning: `max_features='auto'` has been deprecated in 1.1 and will be removed in 1.3. To keep the past behaviour, explicitly set `max_features='sqrt'` or remove this parameter as it is also the default value for RandomForestClassifiers and ExtraTreesClassifiers.\n",
      "  warn(\n",
      "/usr/local/lib/python3.9/dist-packages/sklearn/ensemble/_forest.py:427: FutureWarning: `max_features='auto'` has been deprecated in 1.1 and will be removed in 1.3. To keep the past behaviour, explicitly set `max_features='sqrt'` or remove this parameter as it is also the default value for RandomForestClassifiers and ExtraTreesClassifiers.\n",
      "  warn(\n",
      "/usr/local/lib/python3.9/dist-packages/sklearn/ensemble/_forest.py:427: FutureWarning: `max_features='auto'` has been deprecated in 1.1 and will be removed in 1.3. To keep the past behaviour, explicitly set `max_features='sqrt'` or remove this parameter as it is also the default value for RandomForestClassifiers and ExtraTreesClassifiers.\n",
      "  warn(\n",
      "/usr/local/lib/python3.9/dist-packages/sklearn/ensemble/_forest.py:427: FutureWarning: `max_features='auto'` has been deprecated in 1.1 and will be removed in 1.3. To keep the past behaviour, explicitly set `max_features='sqrt'` or remove this parameter as it is also the default value for RandomForestClassifiers and ExtraTreesClassifiers.\n",
      "  warn(\n",
      "/usr/local/lib/python3.9/dist-packages/sklearn/ensemble/_forest.py:427: FutureWarning: `max_features='auto'` has been deprecated in 1.1 and will be removed in 1.3. To keep the past behaviour, explicitly set `max_features='sqrt'` or remove this parameter as it is also the default value for RandomForestClassifiers and ExtraTreesClassifiers.\n",
      "  warn(\n",
      "/usr/local/lib/python3.9/dist-packages/sklearn/ensemble/_forest.py:427: FutureWarning: `max_features='auto'` has been deprecated in 1.1 and will be removed in 1.3. To keep the past behaviour, explicitly set `max_features='sqrt'` or remove this parameter as it is also the default value for RandomForestClassifiers and ExtraTreesClassifiers.\n",
      "  warn(\n",
      "/usr/local/lib/python3.9/dist-packages/sklearn/ensemble/_forest.py:427: FutureWarning: `max_features='auto'` has been deprecated in 1.1 and will be removed in 1.3. To keep the past behaviour, explicitly set `max_features='sqrt'` or remove this parameter as it is also the default value for RandomForestClassifiers and ExtraTreesClassifiers.\n",
      "  warn(\n",
      "/usr/local/lib/python3.9/dist-packages/sklearn/ensemble/_forest.py:427: FutureWarning: `max_features='auto'` has been deprecated in 1.1 and will be removed in 1.3. To keep the past behaviour, explicitly set `max_features='sqrt'` or remove this parameter as it is also the default value for RandomForestClassifiers and ExtraTreesClassifiers.\n",
      "  warn(\n",
      "/usr/local/lib/python3.9/dist-packages/sklearn/ensemble/_forest.py:427: FutureWarning: `max_features='auto'` has been deprecated in 1.1 and will be removed in 1.3. To keep the past behaviour, explicitly set `max_features='sqrt'` or remove this parameter as it is also the default value for RandomForestClassifiers and ExtraTreesClassifiers.\n",
      "  warn(\n",
      "/usr/local/lib/python3.9/dist-packages/sklearn/ensemble/_forest.py:427: FutureWarning: `max_features='auto'` has been deprecated in 1.1 and will be removed in 1.3. To keep the past behaviour, explicitly set `max_features='sqrt'` or remove this parameter as it is also the default value for RandomForestClassifiers and ExtraTreesClassifiers.\n",
      "  warn(\n",
      "/usr/local/lib/python3.9/dist-packages/sklearn/ensemble/_forest.py:427: FutureWarning: `max_features='auto'` has been deprecated in 1.1 and will be removed in 1.3. To keep the past behaviour, explicitly set `max_features='sqrt'` or remove this parameter as it is also the default value for RandomForestClassifiers and ExtraTreesClassifiers.\n",
      "  warn(\n",
      "/usr/local/lib/python3.9/dist-packages/sklearn/ensemble/_forest.py:427: FutureWarning: `max_features='auto'` has been deprecated in 1.1 and will be removed in 1.3. To keep the past behaviour, explicitly set `max_features='sqrt'` or remove this parameter as it is also the default value for RandomForestClassifiers and ExtraTreesClassifiers.\n",
      "  warn(\n"
     ]
    },
    {
     "name": "stdout",
     "output_type": "stream",
     "text": [
      "Dict{Any, Any}(\"max_depth\" => 11, \"n_estimators\" => 180, \"max_features\" => \"auto\") Accuracy: 0.42689680304594396 Fscore: 0.3475410254765038\n"
     ]
    },
    {
     "name": "stderr",
     "output_type": "stream",
     "text": [
      "/usr/local/lib/python3.9/dist-packages/sklearn/ensemble/_forest.py:427: FutureWarning: `max_features='auto'` has been deprecated in 1.1 and will be removed in 1.3. To keep the past behaviour, explicitly set `max_features='sqrt'` or remove this parameter as it is also the default value for RandomForestClassifiers and ExtraTreesClassifiers.\n",
      "  warn(\n",
      "/usr/local/lib/python3.9/dist-packages/sklearn/ensemble/_forest.py:427: FutureWarning: `max_features='auto'` has been deprecated in 1.1 and will be removed in 1.3. To keep the past behaviour, explicitly set `max_features='sqrt'` or remove this parameter as it is also the default value for RandomForestClassifiers and ExtraTreesClassifiers.\n",
      "  warn(\n",
      "/usr/local/lib/python3.9/dist-packages/sklearn/ensemble/_forest.py:427: FutureWarning: `max_features='auto'` has been deprecated in 1.1 and will be removed in 1.3. To keep the past behaviour, explicitly set `max_features='sqrt'` or remove this parameter as it is also the default value for RandomForestClassifiers and ExtraTreesClassifiers.\n",
      "  warn(\n",
      "/usr/local/lib/python3.9/dist-packages/sklearn/ensemble/_forest.py:427: FutureWarning: `max_features='auto'` has been deprecated in 1.1 and will be removed in 1.3. To keep the past behaviour, explicitly set `max_features='sqrt'` or remove this parameter as it is also the default value for RandomForestClassifiers and ExtraTreesClassifiers.\n",
      "  warn(\n",
      "/usr/local/lib/python3.9/dist-packages/sklearn/ensemble/_forest.py:427: FutureWarning: `max_features='auto'` has been deprecated in 1.1 and will be removed in 1.3. To keep the past behaviour, explicitly set `max_features='sqrt'` or remove this parameter as it is also the default value for RandomForestClassifiers and ExtraTreesClassifiers.\n",
      "  warn(\n",
      "/usr/local/lib/python3.9/dist-packages/sklearn/ensemble/_forest.py:427: FutureWarning: `max_features='auto'` has been deprecated in 1.1 and will be removed in 1.3. To keep the past behaviour, explicitly set `max_features='sqrt'` or remove this parameter as it is also the default value for RandomForestClassifiers and ExtraTreesClassifiers.\n",
      "  warn(\n",
      "/usr/local/lib/python3.9/dist-packages/sklearn/ensemble/_forest.py:427: FutureWarning: `max_features='auto'` has been deprecated in 1.1 and will be removed in 1.3. To keep the past behaviour, explicitly set `max_features='sqrt'` or remove this parameter as it is also the default value for RandomForestClassifiers and ExtraTreesClassifiers.\n",
      "  warn(\n",
      "/usr/local/lib/python3.9/dist-packages/sklearn/ensemble/_forest.py:427: FutureWarning: `max_features='auto'` has been deprecated in 1.1 and will be removed in 1.3. To keep the past behaviour, explicitly set `max_features='sqrt'` or remove this parameter as it is also the default value for RandomForestClassifiers and ExtraTreesClassifiers.\n",
      "  warn(\n",
      "/usr/local/lib/python3.9/dist-packages/sklearn/ensemble/_forest.py:427: FutureWarning: `max_features='auto'` has been deprecated in 1.1 and will be removed in 1.3. To keep the past behaviour, explicitly set `max_features='sqrt'` or remove this parameter as it is also the default value for RandomForestClassifiers and ExtraTreesClassifiers.\n",
      "  warn(\n",
      "/usr/local/lib/python3.9/dist-packages/sklearn/ensemble/_forest.py:427: FutureWarning: `max_features='auto'` has been deprecated in 1.1 and will be removed in 1.3. To keep the past behaviour, explicitly set `max_features='sqrt'` or remove this parameter as it is also the default value for RandomForestClassifiers and ExtraTreesClassifiers.\n",
      "  warn(\n",
      "/usr/local/lib/python3.9/dist-packages/sklearn/ensemble/_forest.py:427: FutureWarning: `max_features='auto'` has been deprecated in 1.1 and will be removed in 1.3. To keep the past behaviour, explicitly set `max_features='sqrt'` or remove this parameter as it is also the default value for RandomForestClassifiers and ExtraTreesClassifiers.\n",
      "  warn(\n",
      "/usr/local/lib/python3.9/dist-packages/sklearn/ensemble/_forest.py:427: FutureWarning: `max_features='auto'` has been deprecated in 1.1 and will be removed in 1.3. To keep the past behaviour, explicitly set `max_features='sqrt'` or remove this parameter as it is also the default value for RandomForestClassifiers and ExtraTreesClassifiers.\n",
      "  warn(\n",
      "/usr/local/lib/python3.9/dist-packages/sklearn/ensemble/_forest.py:427: FutureWarning: `max_features='auto'` has been deprecated in 1.1 and will be removed in 1.3. To keep the past behaviour, explicitly set `max_features='sqrt'` or remove this parameter as it is also the default value for RandomForestClassifiers and ExtraTreesClassifiers.\n",
      "  warn(\n",
      "/usr/local/lib/python3.9/dist-packages/sklearn/ensemble/_forest.py:427: FutureWarning: `max_features='auto'` has been deprecated in 1.1 and will be removed in 1.3. To keep the past behaviour, explicitly set `max_features='sqrt'` or remove this parameter as it is also the default value for RandomForestClassifiers and ExtraTreesClassifiers.\n",
      "  warn(\n",
      "/usr/local/lib/python3.9/dist-packages/sklearn/ensemble/_forest.py:427: FutureWarning: `max_features='auto'` has been deprecated in 1.1 and will be removed in 1.3. To keep the past behaviour, explicitly set `max_features='sqrt'` or remove this parameter as it is also the default value for RandomForestClassifiers and ExtraTreesClassifiers.\n",
      "  warn(\n",
      "/usr/local/lib/python3.9/dist-packages/sklearn/ensemble/_forest.py:427: FutureWarning: `max_features='auto'` has been deprecated in 1.1 and will be removed in 1.3. To keep the past behaviour, explicitly set `max_features='sqrt'` or remove this parameter as it is also the default value for RandomForestClassifiers and ExtraTreesClassifiers.\n",
      "  warn(\n",
      "/usr/local/lib/python3.9/dist-packages/sklearn/ensemble/_forest.py:427: FutureWarning: `max_features='auto'` has been deprecated in 1.1 and will be removed in 1.3. To keep the past behaviour, explicitly set `max_features='sqrt'` or remove this parameter as it is also the default value for RandomForestClassifiers and ExtraTreesClassifiers.\n",
      "  warn(\n",
      "/usr/local/lib/python3.9/dist-packages/sklearn/ensemble/_forest.py:427: FutureWarning: `max_features='auto'` has been deprecated in 1.1 and will be removed in 1.3. To keep the past behaviour, explicitly set `max_features='sqrt'` or remove this parameter as it is also the default value for RandomForestClassifiers and ExtraTreesClassifiers.\n",
      "  warn(\n",
      "/usr/local/lib/python3.9/dist-packages/sklearn/ensemble/_forest.py:427: FutureWarning: `max_features='auto'` has been deprecated in 1.1 and will be removed in 1.3. To keep the past behaviour, explicitly set `max_features='sqrt'` or remove this parameter as it is also the default value for RandomForestClassifiers and ExtraTreesClassifiers.\n",
      "  warn(\n",
      "/usr/local/lib/python3.9/dist-packages/sklearn/ensemble/_forest.py:427: FutureWarning: `max_features='auto'` has been deprecated in 1.1 and will be removed in 1.3. To keep the past behaviour, explicitly set `max_features='sqrt'` or remove this parameter as it is also the default value for RandomForestClassifiers and ExtraTreesClassifiers.\n",
      "  warn(\n"
     ]
    },
    {
     "name": "stdout",
     "output_type": "stream",
     "text": [
      "Parameters: Dict{Any, Any}(\"max_depth\" => 11, \"n_estimators\" => 250, \"max_features\" => \"auto\") Accuracy: 0.427704709339482 Fscore: 0.34757513607666957\n",
      "Parameters: "
     ]
    },
    {
     "name": "stderr",
     "output_type": "stream",
     "text": [
      "/usr/local/lib/python3.9/dist-packages/sklearn/ensemble/_forest.py:427: FutureWarning: `max_features='auto'` has been deprecated in 1.1 and will be removed in 1.3. To keep the past behaviour, explicitly set `max_features='sqrt'` or remove this parameter as it is also the default value for RandomForestClassifiers and ExtraTreesClassifiers.\n",
      "  warn(\n",
      "/usr/local/lib/python3.9/dist-packages/sklearn/ensemble/_forest.py:427: FutureWarning: `max_features='auto'` has been deprecated in 1.1 and will be removed in 1.3. To keep the past behaviour, explicitly set `max_features='sqrt'` or remove this parameter as it is also the default value for RandomForestClassifiers and ExtraTreesClassifiers.\n",
      "  warn(\n",
      "/usr/local/lib/python3.9/dist-packages/sklearn/ensemble/_forest.py:427: FutureWarning: `max_features='auto'` has been deprecated in 1.1 and will be removed in 1.3. To keep the past behaviour, explicitly set `max_features='sqrt'` or remove this parameter as it is also the default value for RandomForestClassifiers and ExtraTreesClassifiers.\n",
      "  warn(\n",
      "/usr/local/lib/python3.9/dist-packages/sklearn/ensemble/_forest.py:427: FutureWarning: `max_features='auto'` has been deprecated in 1.1 and will be removed in 1.3. To keep the past behaviour, explicitly set `max_features='sqrt'` or remove this parameter as it is also the default value for RandomForestClassifiers and ExtraTreesClassifiers.\n",
      "  warn(\n",
      "/usr/local/lib/python3.9/dist-packages/sklearn/ensemble/_forest.py:427: FutureWarning: `max_features='auto'` has been deprecated in 1.1 and will be removed in 1.3. To keep the past behaviour, explicitly set `max_features='sqrt'` or remove this parameter as it is also the default value for RandomForestClassifiers and ExtraTreesClassifiers.\n",
      "  warn(\n",
      "/usr/local/lib/python3.9/dist-packages/sklearn/ensemble/_forest.py:427: FutureWarning: `max_features='auto'` has been deprecated in 1.1 and will be removed in 1.3. To keep the past behaviour, explicitly set `max_features='sqrt'` or remove this parameter as it is also the default value for RandomForestClassifiers and ExtraTreesClassifiers.\n",
      "  warn(\n",
      "/usr/local/lib/python3.9/dist-packages/sklearn/ensemble/_forest.py:427: FutureWarning: `max_features='auto'` has been deprecated in 1.1 and will be removed in 1.3. To keep the past behaviour, explicitly set `max_features='sqrt'` or remove this parameter as it is also the default value for RandomForestClassifiers and ExtraTreesClassifiers.\n",
      "  warn(\n",
      "/usr/local/lib/python3.9/dist-packages/sklearn/ensemble/_forest.py:427: FutureWarning: `max_features='auto'` has been deprecated in 1.1 and will be removed in 1.3. To keep the past behaviour, explicitly set `max_features='sqrt'` or remove this parameter as it is also the default value for RandomForestClassifiers and ExtraTreesClassifiers.\n",
      "  warn(\n",
      "/usr/local/lib/python3.9/dist-packages/sklearn/ensemble/_forest.py:427: FutureWarning: `max_features='auto'` has been deprecated in 1.1 and will be removed in 1.3. To keep the past behaviour, explicitly set `max_features='sqrt'` or remove this parameter as it is also the default value for RandomForestClassifiers and ExtraTreesClassifiers.\n",
      "  warn(\n",
      "/usr/local/lib/python3.9/dist-packages/sklearn/ensemble/_forest.py:427: FutureWarning: `max_features='auto'` has been deprecated in 1.1 and will be removed in 1.3. To keep the past behaviour, explicitly set `max_features='sqrt'` or remove this parameter as it is also the default value for RandomForestClassifiers and ExtraTreesClassifiers.\n",
      "  warn(\n",
      "/usr/local/lib/python3.9/dist-packages/sklearn/ensemble/_forest.py:427: FutureWarning: `max_features='auto'` has been deprecated in 1.1 and will be removed in 1.3. To keep the past behaviour, explicitly set `max_features='sqrt'` or remove this parameter as it is also the default value for RandomForestClassifiers and ExtraTreesClassifiers.\n",
      "  warn(\n",
      "/usr/local/lib/python3.9/dist-packages/sklearn/ensemble/_forest.py:427: FutureWarning: `max_features='auto'` has been deprecated in 1.1 and will be removed in 1.3. To keep the past behaviour, explicitly set `max_features='sqrt'` or remove this parameter as it is also the default value for RandomForestClassifiers and ExtraTreesClassifiers.\n",
      "  warn(\n",
      "/usr/local/lib/python3.9/dist-packages/sklearn/ensemble/_forest.py:427: FutureWarning: `max_features='auto'` has been deprecated in 1.1 and will be removed in 1.3. To keep the past behaviour, explicitly set `max_features='sqrt'` or remove this parameter as it is also the default value for RandomForestClassifiers and ExtraTreesClassifiers.\n",
      "  warn(\n",
      "/usr/local/lib/python3.9/dist-packages/sklearn/ensemble/_forest.py:427: FutureWarning: `max_features='auto'` has been deprecated in 1.1 and will be removed in 1.3. To keep the past behaviour, explicitly set `max_features='sqrt'` or remove this parameter as it is also the default value for RandomForestClassifiers and ExtraTreesClassifiers.\n",
      "  warn(\n",
      "/usr/local/lib/python3.9/dist-packages/sklearn/ensemble/_forest.py:427: FutureWarning: `max_features='auto'` has been deprecated in 1.1 and will be removed in 1.3. To keep the past behaviour, explicitly set `max_features='sqrt'` or remove this parameter as it is also the default value for RandomForestClassifiers and ExtraTreesClassifiers.\n",
      "  warn(\n",
      "/usr/local/lib/python3.9/dist-packages/sklearn/ensemble/_forest.py:427: FutureWarning: `max_features='auto'` has been deprecated in 1.1 and will be removed in 1.3. To keep the past behaviour, explicitly set `max_features='sqrt'` or remove this parameter as it is also the default value for RandomForestClassifiers and ExtraTreesClassifiers.\n",
      "  warn(\n",
      "/usr/local/lib/python3.9/dist-packages/sklearn/ensemble/_forest.py:427: FutureWarning: `max_features='auto'` has been deprecated in 1.1 and will be removed in 1.3. To keep the past behaviour, explicitly set `max_features='sqrt'` or remove this parameter as it is also the default value for RandomForestClassifiers and ExtraTreesClassifiers.\n",
      "  warn(\n",
      "/usr/local/lib/python3.9/dist-packages/sklearn/ensemble/_forest.py:427: FutureWarning: `max_features='auto'` has been deprecated in 1.1 and will be removed in 1.3. To keep the past behaviour, explicitly set `max_features='sqrt'` or remove this parameter as it is also the default value for RandomForestClassifiers and ExtraTreesClassifiers.\n",
      "  warn(\n",
      "/usr/local/lib/python3.9/dist-packages/sklearn/ensemble/_forest.py:427: FutureWarning: `max_features='auto'` has been deprecated in 1.1 and will be removed in 1.3. To keep the past behaviour, explicitly set `max_features='sqrt'` or remove this parameter as it is also the default value for RandomForestClassifiers and ExtraTreesClassifiers.\n",
      "  warn(\n",
      "/usr/local/lib/python3.9/dist-packages/sklearn/ensemble/_forest.py:427: FutureWarning: `max_features='auto'` has been deprecated in 1.1 and will be removed in 1.3. To keep the past behaviour, explicitly set `max_features='sqrt'` or remove this parameter as it is also the default value for RandomForestClassifiers and ExtraTreesClassifiers.\n",
      "  warn(\n"
     ]
    },
    {
     "name": "stdout",
     "output_type": "stream",
     "text": [
      "Dict{Any, Any}(\"max_depth\" => 5, \"n_estimators\" => 50, \"max_features\" => \"sqrt\") Accuracy: 0.4046599261273425 Fscore: 0.28931770174429594\n",
      "Parameters: Dict{Any, Any}(\"max_depth\" => 10, \"n_estimators\" => 50, \"max_features\" => \"sqrt\") Accuracy: 0.4286611411780566 Fscore: 0.34481639704846273\n",
      "Parameters: Dict{Any, Any}(\"max_depth\" => 20, \"n_estimators\" => 50, \"max_features\" => \"sqrt\") Accuracy: 0.39160431322247524 Fscore: 0.3444530199173815\n",
      "Parameters: Dict{Any, Any}(\"max_depth\" => 11, \"n_estimators\" => 180, \"max_features\" => \"sqrt\") Accuracy: 0.4261837992955937 Fscore: 0.3450890077349618\n",
      "Parameters: Dict{Any, Any}(\"max_depth\" => 11, \"n_estimators\" => 250, \"max_features\" => \"sqrt\") Accuracy: 0.4288175804045081 Fscore: 0.3484743290076256\n",
      "//////////////////////////////////////////\n",
      "Best parameters: Dict{Any, Any}(\"max_depth\" => 11, \"n_estimators\" => 250, \"max_features\" => \"sqrt\") Best accuracy: 0.4288175804045081\n",
      "Test: Accuracy: 0.42849172400967084 Sensitivity: 0.3586080717107901 Specificity rate: 0.9101505761220665 FScore: 0.34698719326481003\n",
      "Tot: 5377 Ok: 2304 Acc: 0.42849172400967084\n"
     ]
    }
   ],
   "source": [
    "if RUN_RF_TEST\n",
    "    test_RF_Model(train_input, train_output, test_input, test_output, UPDATE_FILE, RF_FILE_PATH)\n",
    "end"
   ]
  },
  {
   "cell_type": "code",
   "execution_count": null,
   "id": "6aca21d7-1d89-4cfe-8ba0-f9556dc25ea3",
   "metadata": {},
   "outputs": [],
   "source": []
  }
 ],
 "metadata": {
  "kernelspec": {
   "display_name": "Julia 1.8.2",
   "language": "julia",
   "name": "julia-1.8"
  },
  "language_info": {
   "file_extension": ".jl",
   "mimetype": "application/julia",
   "name": "julia",
   "version": "1.8.2"
  }
 },
 "nbformat": 4,
 "nbformat_minor": 5
}
